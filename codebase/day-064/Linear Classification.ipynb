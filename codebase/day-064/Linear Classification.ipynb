{
 "cells": [
  {
   "cell_type": "code",
   "execution_count": 1,
   "metadata": {},
   "outputs": [],
   "source": [
    "import tensorflow as tf\n",
    "from sklearn.datasets import load_breast_cancer\n",
    "from sklearn.model_selection import train_test_split\n",
    "from sklearn.preprocessing import StandardScaler\n",
    "import matplotlib.pyplot as plt\n",
    "\n",
    "%matplotlib inline"
   ]
  },
  {
   "cell_type": "code",
   "execution_count": 2,
   "metadata": {},
   "outputs": [],
   "source": [
    "data = load_breast_cancer()"
   ]
  },
  {
   "cell_type": "code",
   "execution_count": 3,
   "metadata": {},
   "outputs": [],
   "source": [
    "x_train,x_test, y_train, y_test = train_test_split(data.data,data.target,test_size=0.20)\n",
    "N,D = x_train.shape"
   ]
  },
  {
   "cell_type": "code",
   "execution_count": 4,
   "metadata": {},
   "outputs": [],
   "source": [
    "scaler = StandardScaler()\n",
    "x_train = scaler.fit_transform(x_train)\n",
    "x_test = scaler.transform(x_test)"
   ]
  },
  {
   "cell_type": "code",
   "execution_count": 5,
   "metadata": {},
   "outputs": [
    {
     "name": "stdout",
     "output_type": "stream",
     "text": [
      "Number of features: 30\n"
     ]
    }
   ],
   "source": [
    "print (\"Number of features: {}\".format(D))"
   ]
  },
  {
   "cell_type": "code",
   "execution_count": 6,
   "metadata": {},
   "outputs": [
    {
     "name": "stdout",
     "output_type": "stream",
     "text": [
      "WARNING:tensorflow:From /home/mohsin/anaconda3/lib/python3.7/site-packages/tensorflow_core/python/ops/resource_variable_ops.py:1630: calling BaseResourceVariable.__init__ (from tensorflow.python.ops.resource_variable_ops) with constraint is deprecated and will be removed in a future version.\n",
      "Instructions for updating:\n",
      "If using Keras pass *_constraint arguments to layers.\n",
      "WARNING:tensorflow:From /home/mohsin/anaconda3/lib/python3.7/site-packages/tensorflow_core/python/ops/nn_impl.py:183: where (from tensorflow.python.ops.array_ops) is deprecated and will be removed in a future version.\n",
      "Instructions for updating:\n",
      "Use tf.where in 2.0, which has the same broadcast rule as np.where\n"
     ]
    }
   ],
   "source": [
    "model = tf.keras.models.Sequential(\n",
    "    [\n",
    "        tf.keras.layers.Input(shape=(D,)),\n",
    "        tf.keras.layers.Dense(1,activation='sigmoid')\n",
    "    ]\n",
    ")\n",
    "\n",
    "model.compile(\n",
    "    optimizer = 'adam',\n",
    "    loss = 'binary_crossentropy',\n",
    "    metrics = ['accuracy']\n",
    ")"
   ]
  },
  {
   "cell_type": "code",
   "execution_count": 7,
   "metadata": {},
   "outputs": [
    {
     "name": "stdout",
     "output_type": "stream",
     "text": [
      "Train on 455 samples, validate on 114 samples\n",
      "Epoch 1/100\n",
      "455/455 [==============================] - 0s 545us/sample - loss: 1.0658 - acc: 0.3187 - val_loss: 1.0594 - val_acc: 0.2368\n",
      "Epoch 2/100\n",
      "455/455 [==============================] - 0s 66us/sample - loss: 0.9312 - acc: 0.3714 - val_loss: 0.9267 - val_acc: 0.2807\n",
      "Epoch 3/100\n",
      "455/455 [==============================] - 0s 89us/sample - loss: 0.8146 - acc: 0.4440 - val_loss: 0.8071 - val_acc: 0.3860\n",
      "Epoch 4/100\n",
      "455/455 [==============================] - 0s 78us/sample - loss: 0.7119 - acc: 0.5516 - val_loss: 0.7070 - val_acc: 0.4737\n",
      "Epoch 5/100\n",
      "455/455 [==============================] - 0s 63us/sample - loss: 0.6252 - acc: 0.6462 - val_loss: 0.6251 - val_acc: 0.6316\n",
      "Epoch 6/100\n",
      "455/455 [==============================] - 0s 60us/sample - loss: 0.5546 - acc: 0.7363 - val_loss: 0.5593 - val_acc: 0.7807\n",
      "Epoch 7/100\n",
      "455/455 [==============================] - 0s 58us/sample - loss: 0.4965 - acc: 0.7978 - val_loss: 0.5029 - val_acc: 0.8246\n",
      "Epoch 8/100\n",
      "455/455 [==============================] - 0s 73us/sample - loss: 0.4490 - acc: 0.8352 - val_loss: 0.4595 - val_acc: 0.8684\n",
      "Epoch 9/100\n",
      "455/455 [==============================] - 0s 60us/sample - loss: 0.4111 - acc: 0.8659 - val_loss: 0.4251 - val_acc: 0.9123\n",
      "Epoch 10/100\n",
      "455/455 [==============================] - 0s 56us/sample - loss: 0.3808 - acc: 0.8769 - val_loss: 0.3961 - val_acc: 0.9386\n",
      "Epoch 11/100\n",
      "455/455 [==============================] - 0s 57us/sample - loss: 0.3549 - acc: 0.8945 - val_loss: 0.3728 - val_acc: 0.9474\n",
      "Epoch 12/100\n",
      "455/455 [==============================] - 0s 59us/sample - loss: 0.3338 - acc: 0.9099 - val_loss: 0.3531 - val_acc: 0.9474\n",
      "Epoch 13/100\n",
      "455/455 [==============================] - 0s 61us/sample - loss: 0.3153 - acc: 0.9165 - val_loss: 0.3354 - val_acc: 0.9474\n",
      "Epoch 14/100\n",
      "455/455 [==============================] - 0s 78us/sample - loss: 0.2997 - acc: 0.9231 - val_loss: 0.3199 - val_acc: 0.9474\n",
      "Epoch 15/100\n",
      "455/455 [==============================] - 0s 57us/sample - loss: 0.2853 - acc: 0.9297 - val_loss: 0.3068 - val_acc: 0.9474\n",
      "Epoch 16/100\n",
      "455/455 [==============================] - 0s 52us/sample - loss: 0.2727 - acc: 0.9341 - val_loss: 0.2949 - val_acc: 0.9561\n",
      "Epoch 17/100\n",
      "455/455 [==============================] - 0s 60us/sample - loss: 0.2617 - acc: 0.9385 - val_loss: 0.2847 - val_acc: 0.9561\n",
      "Epoch 18/100\n",
      "455/455 [==============================] - 0s 55us/sample - loss: 0.2516 - acc: 0.9429 - val_loss: 0.2752 - val_acc: 0.9561\n",
      "Epoch 19/100\n",
      "455/455 [==============================] - 0s 49us/sample - loss: 0.2425 - acc: 0.9363 - val_loss: 0.2670 - val_acc: 0.9561\n",
      "Epoch 20/100\n",
      "455/455 [==============================] - 0s 70us/sample - loss: 0.2344 - acc: 0.9429 - val_loss: 0.2592 - val_acc: 0.9561\n",
      "Epoch 21/100\n",
      "455/455 [==============================] - 0s 65us/sample - loss: 0.2268 - acc: 0.9429 - val_loss: 0.2524 - val_acc: 0.9561\n",
      "Epoch 22/100\n",
      "455/455 [==============================] - 0s 48us/sample - loss: 0.2198 - acc: 0.9473 - val_loss: 0.2460 - val_acc: 0.9561\n",
      "Epoch 23/100\n",
      "455/455 [==============================] - 0s 50us/sample - loss: 0.2135 - acc: 0.9473 - val_loss: 0.2405 - val_acc: 0.9561\n",
      "Epoch 24/100\n",
      "455/455 [==============================] - 0s 50us/sample - loss: 0.2075 - acc: 0.9516 - val_loss: 0.2351 - val_acc: 0.9561\n",
      "Epoch 25/100\n",
      "455/455 [==============================] - 0s 47us/sample - loss: 0.2019 - acc: 0.9582 - val_loss: 0.2300 - val_acc: 0.9561\n",
      "Epoch 26/100\n",
      "455/455 [==============================] - 0s 49us/sample - loss: 0.1966 - acc: 0.9604 - val_loss: 0.2253 - val_acc: 0.9561\n",
      "Epoch 27/100\n",
      "455/455 [==============================] - 0s 49us/sample - loss: 0.1917 - acc: 0.9626 - val_loss: 0.2208 - val_acc: 0.9561\n",
      "Epoch 28/100\n",
      "455/455 [==============================] - 0s 54us/sample - loss: 0.1871 - acc: 0.9626 - val_loss: 0.2169 - val_acc: 0.9561\n",
      "Epoch 29/100\n",
      "455/455 [==============================] - 0s 74us/sample - loss: 0.1829 - acc: 0.9648 - val_loss: 0.2134 - val_acc: 0.9561\n",
      "Epoch 30/100\n",
      "455/455 [==============================] - 0s 72us/sample - loss: 0.1789 - acc: 0.9648 - val_loss: 0.2099 - val_acc: 0.9561\n",
      "Epoch 31/100\n",
      "455/455 [==============================] - 0s 52us/sample - loss: 0.1751 - acc: 0.9648 - val_loss: 0.2066 - val_acc: 0.9561\n",
      "Epoch 32/100\n",
      "455/455 [==============================] - 0s 55us/sample - loss: 0.1713 - acc: 0.9648 - val_loss: 0.2034 - val_acc: 0.9561\n",
      "Epoch 33/100\n",
      "455/455 [==============================] - 0s 61us/sample - loss: 0.1679 - acc: 0.9670 - val_loss: 0.2004 - val_acc: 0.9561\n",
      "Epoch 34/100\n",
      "455/455 [==============================] - 0s 55us/sample - loss: 0.1645 - acc: 0.9670 - val_loss: 0.1976 - val_acc: 0.9561\n",
      "Epoch 35/100\n",
      "455/455 [==============================] - 0s 60us/sample - loss: 0.1615 - acc: 0.9670 - val_loss: 0.1951 - val_acc: 0.9561\n",
      "Epoch 36/100\n",
      "455/455 [==============================] - 0s 66us/sample - loss: 0.1586 - acc: 0.9714 - val_loss: 0.1928 - val_acc: 0.9561\n",
      "Epoch 37/100\n",
      "455/455 [==============================] - 0s 62us/sample - loss: 0.1558 - acc: 0.9714 - val_loss: 0.1903 - val_acc: 0.9561\n",
      "Epoch 38/100\n",
      "455/455 [==============================] - 0s 57us/sample - loss: 0.1530 - acc: 0.9714 - val_loss: 0.1881 - val_acc: 0.9561\n",
      "Epoch 39/100\n",
      "455/455 [==============================] - 0s 69us/sample - loss: 0.1504 - acc: 0.9714 - val_loss: 0.1859 - val_acc: 0.9561\n",
      "Epoch 40/100\n",
      "455/455 [==============================] - 0s 61us/sample - loss: 0.1480 - acc: 0.9714 - val_loss: 0.1838 - val_acc: 0.9561\n",
      "Epoch 41/100\n",
      "455/455 [==============================] - 0s 54us/sample - loss: 0.1455 - acc: 0.9714 - val_loss: 0.1817 - val_acc: 0.9474\n",
      "Epoch 42/100\n",
      "455/455 [==============================] - 0s 55us/sample - loss: 0.1433 - acc: 0.9714 - val_loss: 0.1799 - val_acc: 0.9561\n",
      "Epoch 43/100\n",
      "455/455 [==============================] - 0s 74us/sample - loss: 0.1411 - acc: 0.9714 - val_loss: 0.1780 - val_acc: 0.9561\n",
      "Epoch 44/100\n",
      "455/455 [==============================] - 0s 57us/sample - loss: 0.1391 - acc: 0.9714 - val_loss: 0.1761 - val_acc: 0.9561\n",
      "Epoch 45/100\n",
      "455/455 [==============================] - 0s 48us/sample - loss: 0.1370 - acc: 0.9758 - val_loss: 0.1745 - val_acc: 0.9561\n",
      "Epoch 46/100\n",
      "455/455 [==============================] - 0s 59us/sample - loss: 0.1351 - acc: 0.9758 - val_loss: 0.1730 - val_acc: 0.9561\n",
      "Epoch 47/100\n",
      "455/455 [==============================] - 0s 50us/sample - loss: 0.1332 - acc: 0.9758 - val_loss: 0.1714 - val_acc: 0.9561\n",
      "Epoch 48/100\n",
      "455/455 [==============================] - 0s 58us/sample - loss: 0.1314 - acc: 0.9758 - val_loss: 0.1699 - val_acc: 0.9561\n",
      "Epoch 49/100\n",
      "455/455 [==============================] - 0s 47us/sample - loss: 0.1297 - acc: 0.9758 - val_loss: 0.1687 - val_acc: 0.9561\n",
      "Epoch 50/100\n",
      "455/455 [==============================] - 0s 50us/sample - loss: 0.1281 - acc: 0.9780 - val_loss: 0.1673 - val_acc: 0.9561\n",
      "Epoch 51/100\n",
      "455/455 [==============================] - 0s 47us/sample - loss: 0.1266 - acc: 0.9802 - val_loss: 0.1659 - val_acc: 0.9561\n",
      "Epoch 52/100\n",
      "455/455 [==============================] - 0s 55us/sample - loss: 0.1250 - acc: 0.9802 - val_loss: 0.1647 - val_acc: 0.9561\n",
      "Epoch 53/100\n",
      "455/455 [==============================] - 0s 53us/sample - loss: 0.1235 - acc: 0.9802 - val_loss: 0.1637 - val_acc: 0.9561\n",
      "Epoch 54/100\n",
      "455/455 [==============================] - 0s 50us/sample - loss: 0.1221 - acc: 0.9802 - val_loss: 0.1626 - val_acc: 0.9561\n",
      "Epoch 55/100\n",
      "455/455 [==============================] - 0s 58us/sample - loss: 0.1207 - acc: 0.9802 - val_loss: 0.1614 - val_acc: 0.9561\n",
      "Epoch 56/100\n",
      "455/455 [==============================] - 0s 49us/sample - loss: 0.1194 - acc: 0.9802 - val_loss: 0.1603 - val_acc: 0.9561\n",
      "Epoch 57/100\n",
      "455/455 [==============================] - 0s 50us/sample - loss: 0.1180 - acc: 0.9802 - val_loss: 0.1591 - val_acc: 0.9561\n",
      "Epoch 58/100\n",
      "455/455 [==============================] - 0s 52us/sample - loss: 0.1167 - acc: 0.9802 - val_loss: 0.1582 - val_acc: 0.9561\n",
      "Epoch 59/100\n",
      "455/455 [==============================] - 0s 63us/sample - loss: 0.1155 - acc: 0.9802 - val_loss: 0.1572 - val_acc: 0.9561\n",
      "Epoch 60/100\n"
     ]
    },
    {
     "name": "stdout",
     "output_type": "stream",
     "text": [
      "455/455 [==============================] - 0s 56us/sample - loss: 0.1143 - acc: 0.9802 - val_loss: 0.1563 - val_acc: 0.9474\n",
      "Epoch 61/100\n",
      "455/455 [==============================] - 0s 68us/sample - loss: 0.1132 - acc: 0.9802 - val_loss: 0.1554 - val_acc: 0.9474\n",
      "Epoch 62/100\n",
      "455/455 [==============================] - 0s 52us/sample - loss: 0.1120 - acc: 0.9802 - val_loss: 0.1545 - val_acc: 0.9474\n",
      "Epoch 63/100\n",
      "455/455 [==============================] - 0s 60us/sample - loss: 0.1110 - acc: 0.9802 - val_loss: 0.1536 - val_acc: 0.9474\n",
      "Epoch 64/100\n",
      "455/455 [==============================] - 0s 51us/sample - loss: 0.1099 - acc: 0.9802 - val_loss: 0.1528 - val_acc: 0.9474\n",
      "Epoch 65/100\n",
      "455/455 [==============================] - 0s 50us/sample - loss: 0.1089 - acc: 0.9824 - val_loss: 0.1520 - val_acc: 0.9474\n",
      "Epoch 66/100\n",
      "455/455 [==============================] - 0s 50us/sample - loss: 0.1078 - acc: 0.9824 - val_loss: 0.1512 - val_acc: 0.9474\n",
      "Epoch 67/100\n",
      "455/455 [==============================] - 0s 51us/sample - loss: 0.1069 - acc: 0.9824 - val_loss: 0.1504 - val_acc: 0.9561\n",
      "Epoch 68/100\n",
      "455/455 [==============================] - 0s 49us/sample - loss: 0.1059 - acc: 0.9824 - val_loss: 0.1497 - val_acc: 0.9561\n",
      "Epoch 69/100\n",
      "455/455 [==============================] - 0s 47us/sample - loss: 0.1050 - acc: 0.9824 - val_loss: 0.1489 - val_acc: 0.9561\n",
      "Epoch 70/100\n",
      "455/455 [==============================] - 0s 60us/sample - loss: 0.1041 - acc: 0.9824 - val_loss: 0.1482 - val_acc: 0.9561\n",
      "Epoch 71/100\n",
      "455/455 [==============================] - 0s 59us/sample - loss: 0.1031 - acc: 0.9824 - val_loss: 0.1474 - val_acc: 0.9561\n",
      "Epoch 72/100\n",
      "455/455 [==============================] - 0s 70us/sample - loss: 0.1023 - acc: 0.9824 - val_loss: 0.1467 - val_acc: 0.9561\n",
      "Epoch 73/100\n",
      "455/455 [==============================] - 0s 70us/sample - loss: 0.1014 - acc: 0.9824 - val_loss: 0.1461 - val_acc: 0.9561\n",
      "Epoch 74/100\n",
      "455/455 [==============================] - 0s 57us/sample - loss: 0.1006 - acc: 0.9824 - val_loss: 0.1456 - val_acc: 0.9561\n",
      "Epoch 75/100\n",
      "455/455 [==============================] - 0s 64us/sample - loss: 0.0998 - acc: 0.9824 - val_loss: 0.1449 - val_acc: 0.9561\n",
      "Epoch 76/100\n",
      "455/455 [==============================] - 0s 52us/sample - loss: 0.0990 - acc: 0.9824 - val_loss: 0.1443 - val_acc: 0.9561\n",
      "Epoch 77/100\n",
      "455/455 [==============================] - 0s 58us/sample - loss: 0.0983 - acc: 0.9846 - val_loss: 0.1437 - val_acc: 0.9561\n",
      "Epoch 78/100\n",
      "455/455 [==============================] - 0s 51us/sample - loss: 0.0975 - acc: 0.9846 - val_loss: 0.1432 - val_acc: 0.9561\n",
      "Epoch 79/100\n",
      "455/455 [==============================] - 0s 68us/sample - loss: 0.0968 - acc: 0.9846 - val_loss: 0.1425 - val_acc: 0.9561\n",
      "Epoch 80/100\n",
      "455/455 [==============================] - 0s 49us/sample - loss: 0.0961 - acc: 0.9846 - val_loss: 0.1420 - val_acc: 0.9561\n",
      "Epoch 81/100\n",
      "455/455 [==============================] - 0s 56us/sample - loss: 0.0954 - acc: 0.9846 - val_loss: 0.1414 - val_acc: 0.9561\n",
      "Epoch 82/100\n",
      "455/455 [==============================] - 0s 50us/sample - loss: 0.0947 - acc: 0.9846 - val_loss: 0.1408 - val_acc: 0.9561\n",
      "Epoch 83/100\n",
      "455/455 [==============================] - 0s 55us/sample - loss: 0.0940 - acc: 0.9846 - val_loss: 0.1404 - val_acc: 0.9561\n",
      "Epoch 84/100\n",
      "455/455 [==============================] - 0s 52us/sample - loss: 0.0934 - acc: 0.9846 - val_loss: 0.1398 - val_acc: 0.9561\n",
      "Epoch 85/100\n",
      "455/455 [==============================] - 0s 56us/sample - loss: 0.0927 - acc: 0.9846 - val_loss: 0.1394 - val_acc: 0.9561\n",
      "Epoch 86/100\n",
      "455/455 [==============================] - 0s 69us/sample - loss: 0.0921 - acc: 0.9846 - val_loss: 0.1389 - val_acc: 0.9561\n",
      "Epoch 87/100\n",
      "455/455 [==============================] - 0s 75us/sample - loss: 0.0915 - acc: 0.9846 - val_loss: 0.1384 - val_acc: 0.9561\n",
      "Epoch 88/100\n",
      "455/455 [==============================] - 0s 72us/sample - loss: 0.0909 - acc: 0.9846 - val_loss: 0.1379 - val_acc: 0.9561\n",
      "Epoch 89/100\n",
      "455/455 [==============================] - 0s 68us/sample - loss: 0.0904 - acc: 0.9846 - val_loss: 0.1375 - val_acc: 0.9561\n",
      "Epoch 90/100\n",
      "455/455 [==============================] - 0s 77us/sample - loss: 0.0898 - acc: 0.9846 - val_loss: 0.1370 - val_acc: 0.9561\n",
      "Epoch 91/100\n",
      "455/455 [==============================] - 0s 80us/sample - loss: 0.0893 - acc: 0.9846 - val_loss: 0.1366 - val_acc: 0.9649\n",
      "Epoch 92/100\n",
      "455/455 [==============================] - 0s 51us/sample - loss: 0.0887 - acc: 0.9846 - val_loss: 0.1361 - val_acc: 0.9649\n",
      "Epoch 93/100\n",
      "455/455 [==============================] - 0s 78us/sample - loss: 0.0882 - acc: 0.9846 - val_loss: 0.1357 - val_acc: 0.9649\n",
      "Epoch 94/100\n",
      "455/455 [==============================] - 0s 75us/sample - loss: 0.0877 - acc: 0.9846 - val_loss: 0.1353 - val_acc: 0.9649\n",
      "Epoch 95/100\n",
      "455/455 [==============================] - 0s 60us/sample - loss: 0.0871 - acc: 0.9846 - val_loss: 0.1349 - val_acc: 0.9649\n",
      "Epoch 96/100\n",
      "455/455 [==============================] - 0s 48us/sample - loss: 0.0866 - acc: 0.9846 - val_loss: 0.1346 - val_acc: 0.9649\n",
      "Epoch 97/100\n",
      "455/455 [==============================] - 0s 52us/sample - loss: 0.0861 - acc: 0.9846 - val_loss: 0.1341 - val_acc: 0.9649\n",
      "Epoch 98/100\n",
      "455/455 [==============================] - 0s 130us/sample - loss: 0.0857 - acc: 0.9846 - val_loss: 0.1337 - val_acc: 0.9649\n",
      "Epoch 99/100\n",
      "455/455 [==============================] - 0s 60us/sample - loss: 0.0852 - acc: 0.9846 - val_loss: 0.1334 - val_acc: 0.9649\n",
      "Epoch 100/100\n",
      "455/455 [==============================] - 0s 53us/sample - loss: 0.0847 - acc: 0.9846 - val_loss: 0.1330 - val_acc: 0.9649\n"
     ]
    }
   ],
   "source": [
    "r = model.fit(x_train,y_train,validation_data=(x_test,y_test),epochs=100)"
   ]
  },
  {
   "cell_type": "code",
   "execution_count": 8,
   "metadata": {},
   "outputs": [
    {
     "data": {
      "image/png": "[encoded data removed]",
      "text/plain": [
       "<Figure size 432x288 with 1 Axes>"
      ]
     },
     "metadata": {
      "needs_background": "light"
     },
     "output_type": "display_data"
    }
   ],
   "source": [
    "plt.plot(r.history['loss'],label='loss')\n",
    "plt.plot(r.history['val_loss'],label='val_loss')\n",
    "plt.legend()\n",
    "plt.show()"
   ]
  },
  {
   "cell_type": "code",
   "execution_count": 9,
   "metadata": {},
   "outputs": [
    {
     "data": {
      "image/png": "[encoded data removed]",
      "text/plain": [
       "<Figure size 432x288 with 1 Axes>"
      ]
     },
     "metadata": {
      "needs_background": "light"
     },
     "output_type": "display_data"
    }
   ],
   "source": [
    "plt.plot(r.history['acc'],label='acc')\n",
    "plt.plot(r.history['val_acc'],label='val_acc')\n",
    "plt.legend()\n",
    "plt.show()"
   ]
  }
 ],
 "metadata": {
  "kernelspec": {
   "display_name": "Python 3",
   "language": "python",
   "name": "python3"
  },
  "language_info": {
   "codemirror_mode": {
    "name": "ipython",
    "version": 3
   },
   "file_extension": ".py",
   "mimetype": "text/x-python",
   "name": "python",
   "nbconvert_exporter": "python",
   "pygments_lexer": "ipython3",
   "version": "3.7.4"
  }
 },
 "nbformat": 4,
 "nbformat_minor": 2
}
