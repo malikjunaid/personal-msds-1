{
 "cells": [
  {
   "cell_type": "code",
   "execution_count": 1,
   "metadata": {},
   "outputs": [
    {
     "name": "stderr",
     "output_type": "stream",
     "text": [
      "Using TensorFlow backend.\n"
     ]
    }
   ],
   "source": [
    "import gym\n",
    "import keras\n",
    "import random\n",
    "import math\n",
    "import numpy as np\n",
    "from collections import deque"
   ]
  },
  {
   "cell_type": "code",
   "execution_count": 2,
   "metadata": {},
   "outputs": [],
   "source": [
    "# Setting up Training parameters\n",
    "n_episodes = 1000\n",
    "n_win_ticks = 195\n",
    "max_env_steps = None\n",
    "\n",
    "gamma = 1.0\n",
    "epsilon = 1.0 # exploration\n",
    "epsilon_decay = 0.995\n",
    "epsilon_min = 0.01\n",
    "alpha = 0.01 # Learning rate\n",
    "alpha_decay = 0.01\n",
    "batch_size = 64\n",
    "monitor = False\n",
    "quiet = False\n",
    "\n",
    "\n",
    "# Environment Parameters\n",
    "memory = deque(maxlen=100000)\n",
    "env = gym.make(\"CartPole-v0\")\n",
    "\n",
    "\n",
    "if max_env_steps is not None: env.max_episode_steps = max_env_steps"
   ]
  },
  {
   "cell_type": "code",
   "execution_count": 3,
   "metadata": {},
   "outputs": [
    {
     "name": "stdout",
     "output_type": "stream",
     "text": [
      "WARNING:tensorflow:From /home/mohsin/anaconda3/lib/python3.7/site-packages/keras/backend/tensorflow_backend.py:74: The name tf.get_default_graph is deprecated. Please use tf.compat.v1.get_default_graph instead.\n",
      "\n",
      "WARNING:tensorflow:From /home/mohsin/anaconda3/lib/python3.7/site-packages/keras/backend/tensorflow_backend.py:517: The name tf.placeholder is deprecated. Please use tf.compat.v1.placeholder instead.\n",
      "\n",
      "WARNING:tensorflow:From /home/mohsin/anaconda3/lib/python3.7/site-packages/keras/backend/tensorflow_backend.py:4138: The name tf.random_uniform is deprecated. Please use tf.random.uniform instead.\n",
      "\n",
      "WARNING:tensorflow:From /home/mohsin/anaconda3/lib/python3.7/site-packages/keras/optimizers.py:790: The name tf.train.Optimizer is deprecated. Please use tf.compat.v1.train.Optimizer instead.\n",
      "\n"
     ]
    }
   ],
   "source": [
    "model = keras.models.Sequential()\n",
    "\n",
    "model.add(keras.layers.Dense(48,input_dim=4,activation='relu'))\n",
    "model.add(keras.layers.Dense(64,activation='relu'))\n",
    "model.add(keras.layers.Dense(2,activation='relu'))\n",
    "\n",
    "model.compile(loss='mse',optimizer=keras.optimizers.Adam(lr=alpha,decay=alpha_decay))"
   ]
  },
  {
   "cell_type": "code",
   "execution_count": 4,
   "metadata": {},
   "outputs": [],
   "source": [
    "def remember(state, action, reward, next_state, done):\n",
    "    memory.append((state,action,reward,next_state,done))\n",
    "\n",
    "def choose_action(state,epsilon):\n",
    "    return env.action_space.sample() if (np.random.random() <= epsilon) else np.argmax(model.predict(state))\n",
    "\n",
    "def get_epsilon(t):\n",
    "    return max(epsilon_min,min(epsilon,1.0-math.log10((t+1)*epsilon_decay)))\n",
    "\n",
    "def preprocess_state(state):\n",
    "    return np.reshape(state,[1,4])\n",
    "\n",
    "def replay(batch_size,epsilon):\n",
    "    x_batch,y_batch = [],[]\n",
    "    minibatch = random.sample(memory,min(len(memory),batch_size))\n",
    "    for state, action, reward, next_state, done in minibatch:\n",
    "        y_target = model.predict(state)\n",
    "        y_target[0][action] = reward if done else reward + gamma * np.max(model.predict(next_state)[0])\n",
    "        x_batch.append(state[0])\n",
    "        y_batch.append(y_target[0])\n",
    "        \n",
    "    model.fit(np.array(x_batch),np.array(y_batch),batch_size=len(x_batch),verbose=0)#verbose = 0\n",
    "    \n",
    "    if epsilon > epsilon_decay:\n",
    "        epsilon *= epsilon_decay"
   ]
  },
  {
   "cell_type": "code",
   "execution_count": 5,
   "metadata": {},
   "outputs": [],
   "source": [
    "def run():\n",
    "    scores = deque(maxlen=100)\n",
    "    \n",
    "    for e in range(n_episodes):\n",
    "        state = preprocess_state(env.reset())\n",
    "        done = False\n",
    "        i = 0\n",
    "        while not done:\n",
    "            action = choose_action(state,get_epsilon(e))\n",
    "            next_state,reward,done,info = env.step(action)\n",
    "            env.render()\n",
    "            next_state = preprocess_state(next_state)\n",
    "            remember(state,action,reward,next_state,done)\n",
    "            state = next_state\n",
    "            i += 1\n",
    "        \n",
    "        scores.append(i)\n",
    "        mean_score = np.mean(scores)\n",
    "        \n",
    "        if mean_score >= n_win_ticks and e >= 100:\n",
    "            if not quiet: print (\"Run {} episodes. Solved after {} trails\".format(e,e-100))\n",
    "            return e-100\n",
    "        if e%20 == 0 and not quiet:\n",
    "            print (\"[Episode {}] - Mean survival time over last 100 episodes was {} ticks\".format(e, mean_score))\n",
    "        replay(batch_size,epsilon)\n",
    "    if not quiet: print (\"Did not solve after {} episodes\".format(e))\n",
    "    return e"
   ]
  },
  {
   "cell_type": "code",
   "execution_count": 6,
   "metadata": {},
   "outputs": [
    {
     "name": "stdout",
     "output_type": "stream",
     "text": [
      "[Episode 0] - Mean survival time over last 100 episodes was 17.0 ticks\n",
      "WARNING:tensorflow:From /home/mohsin/anaconda3/lib/python3.7/site-packages/keras/backend/tensorflow_backend.py:2741: The name tf.Session is deprecated. Please use tf.compat.v1.Session instead.\n",
      "\n",
      "WARNING:tensorflow:From /home/mohsin/anaconda3/lib/python3.7/site-packages/keras/backend/tensorflow_backend.py:174: The name tf.get_default_session is deprecated. Please use tf.compat.v1.get_default_session instead.\n",
      "\n",
      "WARNING:tensorflow:From /home/mohsin/anaconda3/lib/python3.7/site-packages/keras/backend/tensorflow_backend.py:181: The name tf.ConfigProto is deprecated. Please use tf.compat.v1.ConfigProto instead.\n",
      "\n",
      "WARNING:tensorflow:From /home/mohsin/anaconda3/lib/python3.7/site-packages/keras/backend/tensorflow_backend.py:190: The name tf.global_variables is deprecated. Please use tf.compat.v1.global_variables instead.\n",
      "\n",
      "WARNING:tensorflow:From /home/mohsin/anaconda3/lib/python3.7/site-packages/keras/backend/tensorflow_backend.py:199: The name tf.is_variable_initialized is deprecated. Please use tf.compat.v1.is_variable_initialized instead.\n",
      "\n",
      "WARNING:tensorflow:From /home/mohsin/anaconda3/lib/python3.7/site-packages/keras/backend/tensorflow_backend.py:206: The name tf.variables_initializer is deprecated. Please use tf.compat.v1.variables_initializer instead.\n",
      "\n",
      "WARNING:tensorflow:From /home/mohsin/anaconda3/lib/python3.7/site-packages/keras/backend/tensorflow_backend.py:986: The name tf.assign_add is deprecated. Please use tf.compat.v1.assign_add instead.\n",
      "\n",
      "WARNING:tensorflow:From /home/mohsin/anaconda3/lib/python3.7/site-packages/keras/backend/tensorflow_backend.py:973: The name tf.assign is deprecated. Please use tf.compat.v1.assign instead.\n",
      "\n",
      "[Episode 20] - Mean survival time over last 100 episodes was 21.761904761904763 ticks\n",
      "[Episode 40] - Mean survival time over last 100 episodes was 23.121951219512194 ticks\n",
      "[Episode 60] - Mean survival time over last 100 episodes was 22.442622950819672 ticks\n",
      "[Episode 80] - Mean survival time over last 100 episodes was 19.296296296296298 ticks\n",
      "[Episode 100] - Mean survival time over last 100 episodes was 19.85 ticks\n",
      "[Episode 120] - Mean survival time over last 100 episodes was 20.8 ticks\n",
      "[Episode 140] - Mean survival time over last 100 episodes was 22.31 ticks\n",
      "[Episode 160] - Mean survival time over last 100 episodes was 21.47 ticks\n",
      "[Episode 180] - Mean survival time over last 100 episodes was 24.83 ticks\n",
      "[Episode 200] - Mean survival time over last 100 episodes was 26.21 ticks\n",
      "[Episode 220] - Mean survival time over last 100 episodes was 25.87 ticks\n",
      "[Episode 240] - Mean survival time over last 100 episodes was 24.62 ticks\n",
      "[Episode 260] - Mean survival time over last 100 episodes was 27.79 ticks\n",
      "[Episode 280] - Mean survival time over last 100 episodes was 27.2 ticks\n",
      "[Episode 300] - Mean survival time over last 100 episodes was 28.18 ticks\n",
      "[Episode 320] - Mean survival time over last 100 episodes was 29.2 ticks\n",
      "[Episode 340] - Mean survival time over last 100 episodes was 31.68 ticks\n",
      "[Episode 360] - Mean survival time over last 100 episodes was 31.82 ticks\n",
      "[Episode 380] - Mean survival time over last 100 episodes was 33.92 ticks\n",
      "[Episode 400] - Mean survival time over last 100 episodes was 32.14 ticks\n",
      "[Episode 420] - Mean survival time over last 100 episodes was 31.46 ticks\n",
      "[Episode 440] - Mean survival time over last 100 episodes was 31.01 ticks\n",
      "[Episode 460] - Mean survival time over last 100 episodes was 33.05 ticks\n",
      "[Episode 480] - Mean survival time over last 100 episodes was 33.39 ticks\n",
      "[Episode 500] - Mean survival time over last 100 episodes was 37.48 ticks\n",
      "[Episode 520] - Mean survival time over last 100 episodes was 39.2 ticks\n",
      "[Episode 540] - Mean survival time over last 100 episodes was 39.97 ticks\n",
      "[Episode 560] - Mean survival time over last 100 episodes was 41.08 ticks\n",
      "[Episode 580] - Mean survival time over last 100 episodes was 42.11 ticks\n",
      "[Episode 600] - Mean survival time over last 100 episodes was 39.28 ticks\n",
      "[Episode 620] - Mean survival time over last 100 episodes was 39.83 ticks\n",
      "[Episode 640] - Mean survival time over last 100 episodes was 40.64 ticks\n",
      "[Episode 660] - Mean survival time over last 100 episodes was 40.69 ticks\n",
      "[Episode 680] - Mean survival time over last 100 episodes was 42.08 ticks\n",
      "[Episode 700] - Mean survival time over last 100 episodes was 46.97 ticks\n",
      "[Episode 720] - Mean survival time over last 100 episodes was 49.14 ticks\n",
      "[Episode 740] - Mean survival time over last 100 episodes was 50.67 ticks\n",
      "[Episode 760] - Mean survival time over last 100 episodes was 46.19 ticks\n",
      "[Episode 780] - Mean survival time over last 100 episodes was 45.07 ticks\n",
      "[Episode 800] - Mean survival time over last 100 episodes was 44.46 ticks\n",
      "[Episode 820] - Mean survival time over last 100 episodes was 46.59 ticks\n",
      "[Episode 840] - Mean survival time over last 100 episodes was 54.47 ticks\n",
      "[Episode 860] - Mean survival time over last 100 episodes was 62.47 ticks\n",
      "[Episode 880] - Mean survival time over last 100 episodes was 66.19 ticks\n",
      "[Episode 900] - Mean survival time over last 100 episodes was 68.47 ticks\n",
      "[Episode 920] - Mean survival time over last 100 episodes was 67.91 ticks\n",
      "[Episode 940] - Mean survival time over last 100 episodes was 65.95 ticks\n",
      "[Episode 960] - Mean survival time over last 100 episodes was 63.65 ticks\n",
      "[Episode 980] - Mean survival time over last 100 episodes was 61.44 ticks\n",
      "Did not solve after 999 episodes\n"
     ]
    },
    {
     "data": {
      "text/plain": [
       "999"
      ]
     },
     "execution_count": 6,
     "metadata": {},
     "output_type": "execute_result"
    }
   ],
   "source": [
    "run()"
   ]
  },
  {
   "cell_type": "code",
   "execution_count": 7,
   "metadata": {},
   "outputs": [],
   "source": [
    "env.close()"
   ]
  },
  {
   "cell_type": "code",
   "execution_count": null,
   "metadata": {},
   "outputs": [],
   "source": []
  }
 ],
 "metadata": {
  "kernelspec": {
   "display_name": "Python 3",
   "language": "python",
   "name": "python3"
  },
  "language_info": {
   "codemirror_mode": {
    "name": "ipython",
    "version": 3
   },
   "file_extension": ".py",
   "mimetype": "text/x-python",
   "name": "python",
   "nbconvert_exporter": "python",
   "pygments_lexer": "ipython3",
   "version": "3.7.4"
  }
 },
 "nbformat": 4,
 "nbformat_minor": 2
}
