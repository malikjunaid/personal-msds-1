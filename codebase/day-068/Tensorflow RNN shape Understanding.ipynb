{
 "cells": [
  {
   "cell_type": "code",
   "execution_count": 1,
   "metadata": {},
   "outputs": [],
   "source": [
    "from tensorflow.keras.layers import Input, SimpleRNN, Dense, Flatten\n",
    "from tensorflow.keras.models import Model\n",
    "from tensorflow.keras.optimizers import SGD, Adam\n",
    "\n",
    "import numpy as np\n",
    "import matplotlib.pyplot as plt\n",
    "\n",
    "%matplotlib inline"
   ]
  },
  {
   "cell_type": "code",
   "execution_count": 6,
   "metadata": {},
   "outputs": [],
   "source": [
    "N = 1\n",
    "T = 10\n",
    "D = 3\n",
    "K = 2\n",
    "M = 5\n",
    "\n",
    "X = np.random.randn(N, T, D)"
   ]
  },
  {
   "cell_type": "code",
   "execution_count": 19,
   "metadata": {},
   "outputs": [
    {
     "data": {
      "text/plain": [
       "array([[[ 0.71435694,  0.77259639,  0.41210417],\n",
       "        [-0.66429883, -1.27062152,  1.11745455],\n",
       "        [ 0.70655293,  2.03633989, -0.81812258],\n",
       "        [ 1.2582139 , -0.28511962, -0.40486741],\n",
       "        [-1.60065865, -0.79754743, -0.83052049],\n",
       "        [-1.18039352, -0.68612746,  0.23449773],\n",
       "        [-0.49693063,  0.39241183, -0.45205754],\n",
       "        [ 0.25113893,  0.22280935, -0.20768734],\n",
       "        [ 0.80539229, -0.92424355, -1.2096712 ],\n",
       "        [ 1.44787121,  0.54495313,  0.09486646]]])"
      ]
     },
     "execution_count": 19,
     "metadata": {},
     "output_type": "execute_result"
    }
   ],
   "source": [
    "X"
   ]
  },
  {
   "cell_type": "code",
   "execution_count": 9,
   "metadata": {},
   "outputs": [],
   "source": [
    "i = Input(shape=(T,D))\n",
    "x = SimpleRNN(M)(i)\n",
    "x = Dense(2)(x)\n",
    "\n",
    "model = Model(i,x)"
   ]
  },
  {
   "cell_type": "code",
   "execution_count": 10,
   "metadata": {},
   "outputs": [
    {
     "name": "stdout",
     "output_type": "stream",
     "text": [
      "Model: \"model\"\n",
      "_________________________________________________________________\n",
      "Layer (type)                 Output Shape              Param #   \n",
      "=================================================================\n",
      "input_4 (InputLayer)         [(None, 10, 3)]           0         \n",
      "_________________________________________________________________\n",
      "simple_rnn_2 (SimpleRNN)     (None, 5)                 45        \n",
      "_________________________________________________________________\n",
      "dense_2 (Dense)              (None, 2)                 12        \n",
      "=================================================================\n",
      "Total params: 57\n",
      "Trainable params: 57\n",
      "Non-trainable params: 0\n",
      "_________________________________________________________________\n",
      "None\n"
     ]
    }
   ],
   "source": [
    "print (model.summary())"
   ]
  },
  {
   "cell_type": "code",
   "execution_count": 11,
   "metadata": {},
   "outputs": [
    {
     "name": "stdout",
     "output_type": "stream",
     "text": [
      "[[-1.6733268  -0.18302342]]\n"
     ]
    }
   ],
   "source": [
    "Yhat = model.predict(X)\n",
    "print (Yhat)"
   ]
  },
  {
   "cell_type": "code",
   "execution_count": 14,
   "metadata": {},
   "outputs": [
    {
     "data": {
      "text/plain": [
       "[array([[-0.2703346 ,  0.77155143,  0.72771007, -0.05102408,  0.62772447],\n",
       "        [ 0.40728015, -0.518921  ,  0.127675  , -0.6876955 , -0.78631514],\n",
       "        [ 0.3666361 , -0.63421476,  0.12552327, -0.46012616, -0.29254442]],\n",
       "       dtype=float32),\n",
       " array([[-0.23654628,  0.5736913 , -0.230079  ,  0.66832554, -0.33960104],\n",
       "        [ 0.40374216,  0.6046921 ,  0.4632886 , -0.38439488, -0.33006674],\n",
       "        [-0.2505832 , -0.19995666,  0.8545047 ,  0.40501246,  0.05488113],\n",
       "        [-0.18679543, -0.426809  , -0.02678261, -0.15171367, -0.871325  ],\n",
       "        [ 0.8266521 , -0.2882312 , -0.03913595,  0.46747136, -0.11622389]],\n",
       "       dtype=float32),\n",
       " array([0., 0., 0., 0., 0.], dtype=float32)]"
      ]
     },
     "execution_count": 14,
     "metadata": {},
     "output_type": "execute_result"
    }
   ],
   "source": [
    "model.layers[1].get_weights()"
   ]
  },
  {
   "cell_type": "code",
   "execution_count": 16,
   "metadata": {},
   "outputs": [
    {
     "name": "stdout",
     "output_type": "stream",
     "text": [
      "(3, 5) (5, 5) (5,)\n"
     ]
    }
   ],
   "source": [
    "a,b,c = model.layers[1].get_weights()\n",
    "print (a.shape, b.shape, c.shape)"
   ]
  },
  {
   "cell_type": "code",
   "execution_count": 17,
   "metadata": {},
   "outputs": [],
   "source": [
    "Wx,Wh,bh = model.layers[1].get_weights()\n",
    "Wo, bo = model.layers[2].get_weights()"
   ]
  },
  {
   "cell_type": "code",
   "execution_count": 18,
   "metadata": {},
   "outputs": [
    {
     "name": "stdout",
     "output_type": "stream",
     "text": [
      "[-1.67332665 -0.18302334]\n"
     ]
    }
   ],
   "source": [
    "h_last = np.zeros(M) # initial hidden state\n",
    "x = X[0]\n",
    "Yhats = []\n",
    "for t in range(T):\n",
    "    h = np.tanh(x[t].dot(Wx) + h_last.dot(Wh) + bh)\n",
    "    y = h.dot(Wo) +bo\n",
    "    Yhats.append(y)\n",
    "    \n",
    "    h_last = h\n",
    "\n",
    "print (Yhats[-1])"
   ]
  },
  {
   "cell_type": "code",
   "execution_count": null,
   "metadata": {},
   "outputs": [],
   "source": []
  }
 ],
 "metadata": {
  "kernelspec": {
   "display_name": "Python 3",
   "language": "python",
   "name": "python3"
  },
  "language_info": {
   "codemirror_mode": {
    "name": "ipython",
    "version": 3
   },
   "file_extension": ".py",
   "mimetype": "text/x-python",
   "name": "python",
   "nbconvert_exporter": "python",
   "pygments_lexer": "ipython3",
   "version": "3.7.4"
  }
 },
 "nbformat": 4,
 "nbformat_minor": 2
}
