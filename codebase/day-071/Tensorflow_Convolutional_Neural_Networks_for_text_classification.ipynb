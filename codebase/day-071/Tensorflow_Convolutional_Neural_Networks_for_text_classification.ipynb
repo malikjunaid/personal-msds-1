{
  "nbformat": 4,
  "nbformat_minor": 0,
  "metadata": {
    "colab": {
      "name": "Tensorflow Convolutional Neural Networks for text classification.ipynb",
      "provenance": [],
      "collapsed_sections": []
    },
    "kernelspec": {
      "name": "python3",
      "display_name": "Python 3"
    }
  },
  "cells": [
    {
      "cell_type": "code",
      "metadata": {
        "id": "Tz11XzQSKS_J",
        "colab_type": "code",
        "colab": {}
      },
      "source": [
        "import numpy as np\n",
        "import pandas as pd\n",
        "import matplotlib.pyplot as plt\n",
        "from sklearn.model_selection import train_test_split\n",
        "\n",
        "from tensorflow.keras.preprocessing.text import Tokenizer\n",
        "from tensorflow.keras.preprocessing.sequence import pad_sequences\n",
        "from tensorflow.keras.layers import Conv1D, Input, Dense, MaxPool1D, GlobalMaxPooling1D, LSTM, Embedding\n",
        "from tensorflow.keras.models import Model\n",
        "\n",
        "%matplotlib inline"
      ],
      "execution_count": 0,
      "outputs": []
    },
    {
      "cell_type": "code",
      "metadata": {
        "id": "7Xlog-IZKgeI",
        "colab_type": "code",
        "colab": {
          "base_uri": "https://localhost:8080/",
          "height": 208
        },
        "outputId": "6859b7cf-67b1-43f1-d3d8-1954e5d5e393"
      },
      "source": [
        "!wget https://lazyprogrammer.me/course_files/spam.csv"
      ],
      "execution_count": 2,
      "outputs": [
        {
          "output_type": "stream",
          "text": [
            "--2020-06-10 17:05:35--  https://lazyprogrammer.me/course_files/spam.csv\n",
            "Resolving lazyprogrammer.me (lazyprogrammer.me)... 104.31.80.48, 104.31.81.48, 172.67.213.166, ...\n",
            "Connecting to lazyprogrammer.me (lazyprogrammer.me)|104.31.80.48|:443... connected.\n",
            "HTTP request sent, awaiting response... 200 OK\n",
            "Length: 503663 (492K) [text/csv]\n",
            "Saving to: ‘spam.csv.1’\n",
            "\n",
            "\rspam.csv.1            0%[                    ]       0  --.-KB/s               \rspam.csv.1          100%[===================>] 491.86K  --.-KB/s    in 0.02s   \n",
            "\n",
            "2020-06-10 17:05:35 (31.5 MB/s) - ‘spam.csv.1’ saved [503663/503663]\n",
            "\n"
          ],
          "name": "stdout"
        }
      ]
    },
    {
      "cell_type": "code",
      "metadata": {
        "id": "uW-VIK5HKgyN",
        "colab_type": "code",
        "colab": {
          "base_uri": "https://localhost:8080/",
          "height": 206
        },
        "outputId": "87d3739c-8edc-4774-de6d-92a0a4402ca5"
      },
      "source": [
        "df = pd.read_csv('spam.csv',encoding='ISO-8859-1')\n",
        "df.drop(columns=['Unnamed: 2',\"Unnamed: 3\",\"Unnamed: 4\"],inplace=True)\n",
        "df.columns = ['labels','data']\n",
        "df.head()"
      ],
      "execution_count": 3,
      "outputs": [
        {
          "output_type": "execute_result",
          "data": {
            "text/html": [
              "<div>\n",
              "<style scoped>\n",
              "    .dataframe tbody tr th:only-of-type {\n",
              "        vertical-align: middle;\n",
              "    }\n",
              "\n",
              "    .dataframe tbody tr th {\n",
              "        vertical-align: top;\n",
              "    }\n",
              "\n",
              "    .dataframe thead th {\n",
              "        text-align: right;\n",
              "    }\n",
              "</style>\n",
              "<table border=\"1\" class=\"dataframe\">\n",
              "  <thead>\n",
              "    <tr style=\"text-align: right;\">\n",
              "      <th></th>\n",
              "      <th>labels</th>\n",
              "      <th>data</th>\n",
              "    </tr>\n",
              "  </thead>\n",
              "  <tbody>\n",
              "    <tr>\n",
              "      <th>0</th>\n",
              "      <td>ham</td>\n",
              "      <td>Go until jurong point, crazy.. Available only ...</td>\n",
              "    </tr>\n",
              "    <tr>\n",
              "      <th>1</th>\n",
              "      <td>ham</td>\n",
              "      <td>Ok lar... Joking wif u oni...</td>\n",
              "    </tr>\n",
              "    <tr>\n",
              "      <th>2</th>\n",
              "      <td>spam</td>\n",
              "      <td>Free entry in 2 a wkly comp to win FA Cup fina...</td>\n",
              "    </tr>\n",
              "    <tr>\n",
              "      <th>3</th>\n",
              "      <td>ham</td>\n",
              "      <td>U dun say so early hor... U c already then say...</td>\n",
              "    </tr>\n",
              "    <tr>\n",
              "      <th>4</th>\n",
              "      <td>ham</td>\n",
              "      <td>Nah I don't think he goes to usf, he lives aro...</td>\n",
              "    </tr>\n",
              "  </tbody>\n",
              "</table>\n",
              "</div>"
            ],
            "text/plain": [
              "  labels                                               data\n",
              "0    ham  Go until jurong point, crazy.. Available only ...\n",
              "1    ham                      Ok lar... Joking wif u oni...\n",
              "2   spam  Free entry in 2 a wkly comp to win FA Cup fina...\n",
              "3    ham  U dun say so early hor... U c already then say...\n",
              "4    ham  Nah I don't think he goes to usf, he lives aro..."
            ]
          },
          "metadata": {
            "tags": []
          },
          "execution_count": 3
        }
      ]
    },
    {
      "cell_type": "code",
      "metadata": {
        "id": "wPHlF9xqKjVQ",
        "colab_type": "code",
        "colab": {
          "base_uri": "https://localhost:8080/",
          "height": 477
        },
        "outputId": "a04c450d-6a31-4327-edd2-b73ed039c229"
      },
      "source": [
        "df.groupby('labels').count().plot(kind='bar',figsize=(10,7))"
      ],
      "execution_count": 4,
      "outputs": [
        {
          "output_type": "execute_result",
          "data": {
            "text/plain": [
              "<matplotlib.axes._subplots.AxesSubplot at 0x7fdbd0716da0>"
            ]
          },
          "metadata": {
            "tags": []
          },
          "execution_count": 4
        },
        {
          "output_type": "display_data",
          "data": {
            "image/png": "[encoded data removed]",
            "text/plain": [
              "<Figure size 720x504 with 1 Axes>"
            ]
          },
          "metadata": {
            "tags": [],
            "needs_background": "light"
          }
        }
      ]
    },
    {
      "cell_type": "code",
      "metadata": {
        "id": "Al-1lJFbKlnP",
        "colab_type": "code",
        "colab": {
          "base_uri": "https://localhost:8080/",
          "height": 206
        },
        "outputId": "ddf9cc37-cbdd-4929-c7b4-8339668c3f5c"
      },
      "source": [
        "# Mapping the labels\n",
        "df['labels'] = df['labels'].map({'ham':0,'spam':1})\n",
        "df.head()"
      ],
      "execution_count": 5,
      "outputs": [
        {
          "output_type": "execute_result",
          "data": {
            "text/html": [
              "<div>\n",
              "<style scoped>\n",
              "    .dataframe tbody tr th:only-of-type {\n",
              "        vertical-align: middle;\n",
              "    }\n",
              "\n",
              "    .dataframe tbody tr th {\n",
              "        vertical-align: top;\n",
              "    }\n",
              "\n",
              "    .dataframe thead th {\n",
              "        text-align: right;\n",
              "    }\n",
              "</style>\n",
              "<table border=\"1\" class=\"dataframe\">\n",
              "  <thead>\n",
              "    <tr style=\"text-align: right;\">\n",
              "      <th></th>\n",
              "      <th>labels</th>\n",
              "      <th>data</th>\n",
              "    </tr>\n",
              "  </thead>\n",
              "  <tbody>\n",
              "    <tr>\n",
              "      <th>0</th>\n",
              "      <td>0</td>\n",
              "      <td>Go until jurong point, crazy.. Available only ...</td>\n",
              "    </tr>\n",
              "    <tr>\n",
              "      <th>1</th>\n",
              "      <td>0</td>\n",
              "      <td>Ok lar... Joking wif u oni...</td>\n",
              "    </tr>\n",
              "    <tr>\n",
              "      <th>2</th>\n",
              "      <td>1</td>\n",
              "      <td>Free entry in 2 a wkly comp to win FA Cup fina...</td>\n",
              "    </tr>\n",
              "    <tr>\n",
              "      <th>3</th>\n",
              "      <td>0</td>\n",
              "      <td>U dun say so early hor... U c already then say...</td>\n",
              "    </tr>\n",
              "    <tr>\n",
              "      <th>4</th>\n",
              "      <td>0</td>\n",
              "      <td>Nah I don't think he goes to usf, he lives aro...</td>\n",
              "    </tr>\n",
              "  </tbody>\n",
              "</table>\n",
              "</div>"
            ],
            "text/plain": [
              "   labels                                               data\n",
              "0       0  Go until jurong point, crazy.. Available only ...\n",
              "1       0                      Ok lar... Joking wif u oni...\n",
              "2       1  Free entry in 2 a wkly comp to win FA Cup fina...\n",
              "3       0  U dun say so early hor... U c already then say...\n",
              "4       0  Nah I don't think he goes to usf, he lives aro..."
            ]
          },
          "metadata": {
            "tags": []
          },
          "execution_count": 5
        }
      ]
    },
    {
      "cell_type": "code",
      "metadata": {
        "id": "O0eZE4-KKnXJ",
        "colab_type": "code",
        "colab": {}
      },
      "source": [
        "Y = df['labels'].values\n",
        "df_train,df_test, y_train, y_test = train_test_split(df['data'],Y,test_size=0.33) "
      ],
      "execution_count": 0,
      "outputs": []
    },
    {
      "cell_type": "code",
      "metadata": {
        "id": "jkgmPIwDKzkT",
        "colab_type": "code",
        "colab": {}
      },
      "source": [
        "MAX_VOCAB_SIZE = 20000\n",
        "tokenizer = Tokenizer(num_words = MAX_VOCAB_SIZE)\n",
        "tokenizer.fit_on_texts(df_train)\n",
        "sequences_train = tokenizer.texts_to_sequences(df_train)\n",
        "sequences_test = tokenizer.texts_to_sequences(df_test)"
      ],
      "execution_count": 0,
      "outputs": []
    },
    {
      "cell_type": "code",
      "metadata": {
        "id": "PBBfsKP8KzhW",
        "colab_type": "code",
        "colab": {
          "base_uri": "https://localhost:8080/",
          "height": 52
        },
        "outputId": "631553e8-553c-4bea-9063-ec5bcbfc198c"
      },
      "source": [
        "word2idx = tokenizer.index_word\n",
        "V = len(word2idx)\n",
        "print (\"Total unique words found: {}\".format(V))\n",
        "data_train = pad_sequences(sequences_train)\n",
        "T = data_train.shape[1]\n",
        "data_test = pad_sequences(sequences_test,maxlen=T)\n",
        "print (\"Shape of the data train tensor: {}\".format(data_train.shape))"
      ],
      "execution_count": 8,
      "outputs": [
        {
          "output_type": "stream",
          "text": [
            "Total unique words found: 7076\n",
            "Shape of the data train tensor: (3733, 121)\n"
          ],
          "name": "stdout"
        }
      ]
    },
    {
      "cell_type": "code",
      "metadata": {
        "id": "C6tL5ZWRKzd9",
        "colab_type": "code",
        "colab": {
          "base_uri": "https://localhost:8080/",
          "height": 558
        },
        "outputId": "5d2bf9c7-d92e-4bf4-e71e-6379d3a84cf2"
      },
      "source": [
        "D = 20\n",
        "\n",
        "i = Input(shape=(T,))\n",
        "x = Embedding(V + 1,D)(i)\n",
        "x = Conv1D(32,3,activation='relu')(x)\n",
        "x = MaxPool1D(3)(x)\n",
        "x = Conv1D(64,3,activation='relu')(x)\n",
        "x = MaxPool1D(3)(x)\n",
        "x = Conv1D(128,3,activation='relu')(x)\n",
        "x = GlobalMaxPooling1D()(x)\n",
        "x = Dense(1,activation='sigmoid')(x)\n",
        "\n",
        "model = Model(i,x)\n",
        "model.compile(\n",
        "    loss=\"binary_crossentropy\",\n",
        "    optimizer='adam',\n",
        "    metrics=['accuracy']\n",
        ")\n",
        "\n",
        "r = model.fit(data_train,y_train,epochs=15,validation_data=(data_test,y_test))"
      ],
      "execution_count": 9,
      "outputs": [
        {
          "output_type": "stream",
          "text": [
            "Epoch 1/15\n",
            "117/117 [==============================] - 2s 14ms/step - loss: 0.4040 - accuracy: 0.8655 - val_loss: 0.3378 - val_accuracy: 0.8668\n",
            "Epoch 2/15\n",
            "117/117 [==============================] - 1s 13ms/step - loss: 0.1270 - accuracy: 0.9545 - val_loss: 0.1240 - val_accuracy: 0.9679\n",
            "Epoch 3/15\n",
            "117/117 [==============================] - 1s 12ms/step - loss: 0.0318 - accuracy: 0.9904 - val_loss: 0.0889 - val_accuracy: 0.9750\n",
            "Epoch 4/15\n",
            "117/117 [==============================] - 1s 12ms/step - loss: 0.0153 - accuracy: 0.9968 - val_loss: 0.1002 - val_accuracy: 0.9755\n",
            "Epoch 5/15\n",
            "117/117 [==============================] - 1s 12ms/step - loss: 0.0114 - accuracy: 0.9973 - val_loss: 0.0898 - val_accuracy: 0.9788\n",
            "Epoch 6/15\n",
            "117/117 [==============================] - 1s 12ms/step - loss: 0.0085 - accuracy: 0.9979 - val_loss: 0.1009 - val_accuracy: 0.9788\n",
            "Epoch 7/15\n",
            "117/117 [==============================] - 1s 12ms/step - loss: 0.0069 - accuracy: 0.9981 - val_loss: 0.1047 - val_accuracy: 0.9799\n",
            "Epoch 8/15\n",
            "117/117 [==============================] - 1s 12ms/step - loss: 0.0053 - accuracy: 0.9989 - val_loss: 0.1222 - val_accuracy: 0.9793\n",
            "Epoch 9/15\n",
            "117/117 [==============================] - 2s 13ms/step - loss: 0.0054 - accuracy: 0.9984 - val_loss: 0.1543 - val_accuracy: 0.9782\n",
            "Epoch 10/15\n",
            "117/117 [==============================] - 1s 12ms/step - loss: 0.0047 - accuracy: 0.9987 - val_loss: 0.1382 - val_accuracy: 0.9793\n",
            "Epoch 11/15\n",
            "117/117 [==============================] - 1s 13ms/step - loss: 0.0043 - accuracy: 0.9995 - val_loss: 0.1334 - val_accuracy: 0.9793\n",
            "Epoch 12/15\n",
            "117/117 [==============================] - 1s 13ms/step - loss: 0.0047 - accuracy: 0.9989 - val_loss: 0.1394 - val_accuracy: 0.9782\n",
            "Epoch 13/15\n",
            "117/117 [==============================] - 1s 13ms/step - loss: 0.0044 - accuracy: 0.9995 - val_loss: 0.1285 - val_accuracy: 0.9799\n",
            "Epoch 14/15\n",
            "117/117 [==============================] - 1s 13ms/step - loss: 0.0041 - accuracy: 0.9995 - val_loss: 0.1260 - val_accuracy: 0.9799\n",
            "Epoch 15/15\n",
            "117/117 [==============================] - 1s 13ms/step - loss: 0.0041 - accuracy: 0.9992 - val_loss: 0.1757 - val_accuracy: 0.9782\n"
          ],
          "name": "stdout"
        }
      ]
    },
    {
      "cell_type": "code",
      "metadata": {
        "id": "kTQ9uZaFKyjr",
        "colab_type": "code",
        "colab": {
          "base_uri": "https://localhost:8080/",
          "height": 428
        },
        "outputId": "be2c1a22-3c18-4aa0-fa98-d9afa0ae21de"
      },
      "source": [
        "  plt.figure(figsize=(10,7))\n",
        "  plt.plot(r.history['loss'],label='loss')\n",
        "  plt.plot(r.history['val_loss'],label='val_loss')\n",
        "  plt.show()"
      ],
      "execution_count": 10,
      "outputs": [
        {
          "output_type": "display_data",
          "data": {
            "image/png": "[encoded data removed]",
            "text/plain": [
              "<Figure size 720x504 with 1 Axes>"
            ]
          },
          "metadata": {
            "tags": [],
            "needs_background": "light"
          }
        }
      ]
    },
    {
      "cell_type": "code",
      "metadata": {
        "id": "X-8yLvgWMWwg",
        "colab_type": "code",
        "colab": {
          "base_uri": "https://localhost:8080/",
          "height": 428
        },
        "outputId": "b650c9ed-1850-4676-bf1d-7162c8188bf7"
      },
      "source": [
        "  plt.figure(figsize=(10,7))\n",
        "  plt.plot(r.history['accuracy'],label='acc')\n",
        "  plt.plot(r.history['val_accuracy'],label='val_acc')\n",
        "  plt.show()"
      ],
      "execution_count": 11,
      "outputs": [
        {
          "output_type": "display_data",
          "data": {
            "image/png": "[encoded data removed]",
            "text/plain": [
              "<Figure size 720x504 with 1 Axes>"
            ]
          },
          "metadata": {
            "tags": [],
            "needs_background": "light"
          }
        }
      ]
    }
  ]
}