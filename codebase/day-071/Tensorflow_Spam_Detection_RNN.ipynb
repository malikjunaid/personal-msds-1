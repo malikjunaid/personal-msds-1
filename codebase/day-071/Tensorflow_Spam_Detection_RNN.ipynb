{
  "nbformat": 4,
  "nbformat_minor": 0,
  "metadata": {
    "colab": {
      "name": "Tensorflow Spam Detection RNN.ipynb",
      "provenance": [],
      "collapsed_sections": []
    },
    "kernelspec": {
      "name": "python3",
      "display_name": "Python 3"
    }
  },
  "cells": [
    {
      "cell_type": "code",
      "metadata": {
        "id": "4KAtT1OH-DSU",
        "colab_type": "code",
        "colab": {}
      },
      "source": [
        "import numpy as np\n",
        "import pandas as pd\n",
        "import matplotlib.pyplot as plt\n",
        "from sklearn.model_selection import train_test_split\n",
        "\n",
        "from tensorflow.keras.preprocessing.text import Tokenizer\n",
        "from tensorflow.keras.preprocessing.sequence import pad_sequences\n",
        "from tensorflow.keras.layers import Input, Dense, GlobalMaxPooling1D, LSTM, Embedding\n",
        "from tensorflow.keras.models import Model\n",
        "\n",
        "%matplotlib inline"
      ],
      "execution_count": 0,
      "outputs": []
    },
    {
      "cell_type": "code",
      "metadata": {
        "id": "HwJm3sH8-w5U",
        "colab_type": "code",
        "colab": {
          "base_uri": "https://localhost:8080/",
          "height": 208
        },
        "outputId": "19017f4d-9a57-48cb-c0ff-3b2665d307cd"
      },
      "source": [
        "!wget https://lazyprogrammer.me/course_files/spam.csv"
      ],
      "execution_count": 2,
      "outputs": [
        {
          "output_type": "stream",
          "text": [
            "--2020-06-10 16:37:43--  https://lazyprogrammer.me/course_files/spam.csv\n",
            "Resolving lazyprogrammer.me (lazyprogrammer.me)... 172.67.213.166, 104.31.80.48, 104.31.81.48, ...\n",
            "Connecting to lazyprogrammer.me (lazyprogrammer.me)|172.67.213.166|:443... connected.\n",
            "HTTP request sent, awaiting response... 200 OK\n",
            "Length: 503663 (492K) [text/csv]\n",
            "Saving to: ‘spam.csv.1’\n",
            "\n",
            "\rspam.csv.1            0%[                    ]       0  --.-KB/s               \rspam.csv.1          100%[===================>] 491.86K  --.-KB/s    in 0.04s   \n",
            "\n",
            "2020-06-10 16:37:44 (13.4 MB/s) - ‘spam.csv.1’ saved [503663/503663]\n",
            "\n"
          ],
          "name": "stdout"
        }
      ]
    },
    {
      "cell_type": "code",
      "metadata": {
        "id": "ecH5VWWp-9az",
        "colab_type": "code",
        "colab": {
          "base_uri": "https://localhost:8080/",
          "height": 206
        },
        "outputId": "a9ffd593-41e5-44a6-caf9-caf81d98d99b"
      },
      "source": [
        "df = pd.read_csv('spam.csv',encoding='ISO-8859-1')\n",
        "df.drop(columns=['Unnamed: 2',\"Unnamed: 3\",\"Unnamed: 4\"],inplace=True)\n",
        "df.columns = ['labels','data']\n",
        "df.head()"
      ],
      "execution_count": 3,
      "outputs": [
        {
          "output_type": "execute_result",
          "data": {
            "text/html": [
              "<div>\n",
              "<style scoped>\n",
              "    .dataframe tbody tr th:only-of-type {\n",
              "        vertical-align: middle;\n",
              "    }\n",
              "\n",
              "    .dataframe tbody tr th {\n",
              "        vertical-align: top;\n",
              "    }\n",
              "\n",
              "    .dataframe thead th {\n",
              "        text-align: right;\n",
              "    }\n",
              "</style>\n",
              "<table border=\"1\" class=\"dataframe\">\n",
              "  <thead>\n",
              "    <tr style=\"text-align: right;\">\n",
              "      <th></th>\n",
              "      <th>labels</th>\n",
              "      <th>data</th>\n",
              "    </tr>\n",
              "  </thead>\n",
              "  <tbody>\n",
              "    <tr>\n",
              "      <th>0</th>\n",
              "      <td>ham</td>\n",
              "      <td>Go until jurong point, crazy.. Available only ...</td>\n",
              "    </tr>\n",
              "    <tr>\n",
              "      <th>1</th>\n",
              "      <td>ham</td>\n",
              "      <td>Ok lar... Joking wif u oni...</td>\n",
              "    </tr>\n",
              "    <tr>\n",
              "      <th>2</th>\n",
              "      <td>spam</td>\n",
              "      <td>Free entry in 2 a wkly comp to win FA Cup fina...</td>\n",
              "    </tr>\n",
              "    <tr>\n",
              "      <th>3</th>\n",
              "      <td>ham</td>\n",
              "      <td>U dun say so early hor... U c already then say...</td>\n",
              "    </tr>\n",
              "    <tr>\n",
              "      <th>4</th>\n",
              "      <td>ham</td>\n",
              "      <td>Nah I don't think he goes to usf, he lives aro...</td>\n",
              "    </tr>\n",
              "  </tbody>\n",
              "</table>\n",
              "</div>"
            ],
            "text/plain": [
              "  labels                                               data\n",
              "0    ham  Go until jurong point, crazy.. Available only ...\n",
              "1    ham                      Ok lar... Joking wif u oni...\n",
              "2   spam  Free entry in 2 a wkly comp to win FA Cup fina...\n",
              "3    ham  U dun say so early hor... U c already then say...\n",
              "4    ham  Nah I don't think he goes to usf, he lives aro..."
            ]
          },
          "metadata": {
            "tags": []
          },
          "execution_count": 3
        }
      ]
    },
    {
      "cell_type": "code",
      "metadata": {
        "id": "tq0mpbx3_KmI",
        "colab_type": "code",
        "colab": {
          "base_uri": "https://localhost:8080/",
          "height": 477
        },
        "outputId": "f693920a-6381-4b61-939e-c1c0d30b3f78"
      },
      "source": [
        "df.groupby('labels').count().plot(kind='bar',figsize=(10,7))"
      ],
      "execution_count": 5,
      "outputs": [
        {
          "output_type": "execute_result",
          "data": {
            "text/plain": [
              "<matplotlib.axes._subplots.AxesSubplot at 0x7fd34a3dbc50>"
            ]
          },
          "metadata": {
            "tags": []
          },
          "execution_count": 5
        },
        {
          "output_type": "display_data",
          "data": {
            "image/png": "[encoded data removed]",
            "text/plain": [
              "<Figure size 720x504 with 1 Axes>"
            ]
          },
          "metadata": {
            "tags": [],
            "needs_background": "light"
          }
        }
      ]
    },
    {
      "cell_type": "code",
      "metadata": {
        "id": "QTvROryo_Szw",
        "colab_type": "code",
        "colab": {
          "base_uri": "https://localhost:8080/",
          "height": 206
        },
        "outputId": "ff795751-280f-4bf4-d8fa-fe99eb349883"
      },
      "source": [
        "# Mapping the labels\n",
        "df['labels'] = df['labels'].map({'ham':0,'spam':1})\n",
        "df.head()"
      ],
      "execution_count": 6,
      "outputs": [
        {
          "output_type": "execute_result",
          "data": {
            "text/html": [
              "<div>\n",
              "<style scoped>\n",
              "    .dataframe tbody tr th:only-of-type {\n",
              "        vertical-align: middle;\n",
              "    }\n",
              "\n",
              "    .dataframe tbody tr th {\n",
              "        vertical-align: top;\n",
              "    }\n",
              "\n",
              "    .dataframe thead th {\n",
              "        text-align: right;\n",
              "    }\n",
              "</style>\n",
              "<table border=\"1\" class=\"dataframe\">\n",
              "  <thead>\n",
              "    <tr style=\"text-align: right;\">\n",
              "      <th></th>\n",
              "      <th>labels</th>\n",
              "      <th>data</th>\n",
              "    </tr>\n",
              "  </thead>\n",
              "  <tbody>\n",
              "    <tr>\n",
              "      <th>0</th>\n",
              "      <td>0</td>\n",
              "      <td>Go until jurong point, crazy.. Available only ...</td>\n",
              "    </tr>\n",
              "    <tr>\n",
              "      <th>1</th>\n",
              "      <td>0</td>\n",
              "      <td>Ok lar... Joking wif u oni...</td>\n",
              "    </tr>\n",
              "    <tr>\n",
              "      <th>2</th>\n",
              "      <td>1</td>\n",
              "      <td>Free entry in 2 a wkly comp to win FA Cup fina...</td>\n",
              "    </tr>\n",
              "    <tr>\n",
              "      <th>3</th>\n",
              "      <td>0</td>\n",
              "      <td>U dun say so early hor... U c already then say...</td>\n",
              "    </tr>\n",
              "    <tr>\n",
              "      <th>4</th>\n",
              "      <td>0</td>\n",
              "      <td>Nah I don't think he goes to usf, he lives aro...</td>\n",
              "    </tr>\n",
              "  </tbody>\n",
              "</table>\n",
              "</div>"
            ],
            "text/plain": [
              "   labels                                               data\n",
              "0       0  Go until jurong point, crazy.. Available only ...\n",
              "1       0                      Ok lar... Joking wif u oni...\n",
              "2       1  Free entry in 2 a wkly comp to win FA Cup fina...\n",
              "3       0  U dun say so early hor... U c already then say...\n",
              "4       0  Nah I don't think he goes to usf, he lives aro..."
            ]
          },
          "metadata": {
            "tags": []
          },
          "execution_count": 6
        }
      ]
    },
    {
      "cell_type": "code",
      "metadata": {
        "id": "EJGmwueIAV_b",
        "colab_type": "code",
        "colab": {}
      },
      "source": [
        "Y = df['labels'].values\n",
        "df_train,df_test, y_train, y_test = train_test_split(df['data'],Y,test_size=0.33) "
      ],
      "execution_count": 0,
      "outputs": []
    },
    {
      "cell_type": "code",
      "metadata": {
        "id": "Z7kD7I7RBeH_",
        "colab_type": "code",
        "colab": {}
      },
      "source": [
        "\n",
        "MAX_VOCAB_SIZE = 20000\n",
        "tokenizer = Tokenizer(num_words = MAX_VOCAB_SIZE)\n",
        "tokenizer.fit_on_texts(df_train)\n",
        "sequences_train = tokenizer.texts_to_sequences(df_train)\n",
        "sequences_test = tokenizer.texts_to_sequences(df_test)"
      ],
      "execution_count": 0,
      "outputs": []
    },
    {
      "cell_type": "code",
      "metadata": {
        "id": "syzTtYQBB2QD",
        "colab_type": "code",
        "colab": {
          "base_uri": "https://localhost:8080/",
          "height": 52
        },
        "outputId": "8add36a8-a2d3-4813-ea57-fd33c3521dcf"
      },
      "source": [
        "word2idx = tokenizer.index_word\n",
        "V = len(word2idx)\n",
        "print (\"Total unique words found: {}\".format(V))\n",
        "data_train = pad_sequences(sequences_train)\n",
        "T = data_train.shape[1]\n",
        "data_test = pad_sequences(sequences_test,maxlen=T)\n",
        "print (\"Shape of the data train tensor: {}\".format(data_train.shape))"
      ],
      "execution_count": 10,
      "outputs": [
        {
          "output_type": "stream",
          "text": [
            "Total unique words found: 7233\n",
            "Shape of the data train tensor: (3733, 189)\n"
          ],
          "name": "stdout"
        }
      ]
    },
    {
      "cell_type": "code",
      "metadata": {
        "id": "luc7timXCsIh",
        "colab_type": "code",
        "colab": {
          "base_uri": "https://localhost:8080/",
          "height": 575
        },
        "outputId": "6a54b685-d110-40e5-9e2f-50f165e81f70"
      },
      "source": [
        "D = 30 # Embedding dimensionality\n",
        "M = 15 # Number of hidden units\n",
        "\n",
        "# V + 1 because in the word embeddings the indices starts from 1 not from zero\n",
        "# Hence adding 1 to V to tackle this problem.\n",
        "i = Input(shape=(T,))\n",
        "x = Embedding(V+1,D)(i)\n",
        "x = LSTM(M,return_sequences=True)(x)\n",
        "x = GlobalMaxPooling1D()(x)\n",
        "x = Dense(1,activation='sigmoid')(x)\n",
        "\n",
        "model = Model(i,x)\n",
        "\n",
        "model.compile(\n",
        "    loss='binary_crossentropy',\n",
        "    optimizer='adam',\n",
        "    metrics=['accuracy']\n",
        ")\n",
        "\n",
        "print (\"Training model.....\")\n",
        "\n",
        "r = model.fit(\n",
        "    data_train,y_train,\n",
        "    epochs=15,\n",
        "    validation_data=(data_test,y_test)\n",
        ")"
      ],
      "execution_count": 11,
      "outputs": [
        {
          "output_type": "stream",
          "text": [
            "Training model.....\n",
            "Epoch 1/15\n",
            "117/117 [==============================] - 9s 78ms/step - loss: 0.4435 - accuracy: 0.8666 - val_loss: 0.3821 - val_accuracy: 0.8646\n",
            "Epoch 2/15\n",
            "117/117 [==============================] - 9s 75ms/step - loss: 0.3142 - accuracy: 0.8666 - val_loss: 0.2549 - val_accuracy: 0.8646\n",
            "Epoch 3/15\n",
            "117/117 [==============================] - 9s 76ms/step - loss: 0.2075 - accuracy: 0.8757 - val_loss: 0.1814 - val_accuracy: 0.9473\n",
            "Epoch 4/15\n",
            "117/117 [==============================] - 9s 76ms/step - loss: 0.1302 - accuracy: 0.9829 - val_loss: 0.1066 - val_accuracy: 0.9842\n",
            "Epoch 5/15\n",
            "117/117 [==============================] - 9s 77ms/step - loss: 0.0735 - accuracy: 0.9904 - val_loss: 0.0729 - val_accuracy: 0.9848\n",
            "Epoch 6/15\n",
            "117/117 [==============================] - 9s 77ms/step - loss: 0.0478 - accuracy: 0.9930 - val_loss: 0.0742 - val_accuracy: 0.9837\n",
            "Epoch 7/15\n",
            "117/117 [==============================] - 9s 76ms/step - loss: 0.0295 - accuracy: 0.9949 - val_loss: 0.0566 - val_accuracy: 0.9864\n",
            "Epoch 8/15\n",
            "117/117 [==============================] - 9s 75ms/step - loss: 0.0199 - accuracy: 0.9968 - val_loss: 0.0575 - val_accuracy: 0.9859\n",
            "Epoch 9/15\n",
            "117/117 [==============================] - 9s 78ms/step - loss: 0.0139 - accuracy: 0.9976 - val_loss: 0.0524 - val_accuracy: 0.9859\n",
            "Epoch 10/15\n",
            "117/117 [==============================] - 9s 74ms/step - loss: 0.0105 - accuracy: 0.9989 - val_loss: 0.0506 - val_accuracy: 0.9859\n",
            "Epoch 11/15\n",
            "117/117 [==============================] - 9s 75ms/step - loss: 0.0082 - accuracy: 0.9989 - val_loss: 0.0515 - val_accuracy: 0.9859\n",
            "Epoch 12/15\n",
            "117/117 [==============================] - 9s 74ms/step - loss: 0.0065 - accuracy: 0.9995 - val_loss: 0.0494 - val_accuracy: 0.9848\n",
            "Epoch 13/15\n",
            "117/117 [==============================] - 9s 76ms/step - loss: 0.0054 - accuracy: 0.9995 - val_loss: 0.0538 - val_accuracy: 0.9859\n",
            "Epoch 14/15\n",
            "117/117 [==============================] - 9s 76ms/step - loss: 0.0043 - accuracy: 0.9997 - val_loss: 0.0525 - val_accuracy: 0.9853\n",
            "Epoch 15/15\n",
            "117/117 [==============================] - 9s 75ms/step - loss: 0.0036 - accuracy: 1.0000 - val_loss: 0.0538 - val_accuracy: 0.9853\n"
          ],
          "name": "stdout"
        }
      ]
    },
    {
      "cell_type": "code",
      "metadata": {
        "id": "ceIG7TywEsq5",
        "colab_type": "code",
        "colab": {
          "base_uri": "https://localhost:8080/",
          "height": 428
        },
        "outputId": "ef5255d8-774c-4ca9-9470-f33efe77d58b"
      },
      "source": [
        "  plt.figure(figsize=(10,7))\n",
        "  plt.plot(r.history['loss'],label='loss')\n",
        "  plt.plot(r.history['val_loss'],label='val_loss')\n",
        "  plt.show()"
      ],
      "execution_count": 13,
      "outputs": [
        {
          "output_type": "display_data",
          "data": {
            "image/png": "[encoded data removed]",
            "text/plain": [
              "<Figure size 720x504 with 1 Axes>"
            ]
          },
          "metadata": {
            "tags": [],
            "needs_background": "light"
          }
        }
      ]
    },
    {
      "cell_type": "code",
      "metadata": {
        "id": "vOonUx_UHDQy",
        "colab_type": "code",
        "colab": {
          "base_uri": "https://localhost:8080/",
          "height": 428
        },
        "outputId": "75a9e41f-9f15-4aee-f687-572042ad6c3c"
      },
      "source": [
        "  plt.figure(figsize=(10,7))\n",
        "  plt.plot(r.history['accuracy'],label='acc')\n",
        "  plt.plot(r.history['val_accuracy'],label='val_acc')\n",
        "  plt.show()"
      ],
      "execution_count": 14,
      "outputs": [
        {
          "output_type": "display_data",
          "data": {
            "image/png": "[encoded data removed]",
            "text/plain": [
              "<Figure size 720x504 with 1 Axes>"
            ]
          },
          "metadata": {
            "tags": [],
            "needs_background": "light"
          }
        }
      ]
    },
    {
      "cell_type": "code",
      "metadata": {
        "id": "pTJ_qQ-sHPQJ",
        "colab_type": "code",
        "colab": {}
      },
      "source": [
        ""
      ],
      "execution_count": 0,
      "outputs": []
    }
  ]
}