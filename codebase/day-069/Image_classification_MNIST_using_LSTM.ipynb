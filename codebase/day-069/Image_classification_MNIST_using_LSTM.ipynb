{
  "nbformat": 4,
  "nbformat_minor": 0,
  "metadata": {
    "colab": {
      "name": "Image classification MNIST using LSTM.ipynb",
      "provenance": [],
      "collapsed_sections": []
    },
    "kernelspec": {
      "name": "python3",
      "display_name": "Python 3"
    },
    "accelerator": "TPU"
  },
  "cells": [
    {
      "cell_type": "code",
      "metadata": {
        "id": "0Ai8wTBv3deQ",
        "colab_type": "code",
        "colab": {}
      },
      "source": [
        "import numpy as np\n",
        "import tensorflow as tf\n",
        "import matplotlib.pyplot as plt\n",
        "from tensorflow.keras.layers import Input, Dense, SimpleRNN, LSTM, GRU, Dense, Flatten, GlobalMaxPool1D\n",
        "from tensorflow.keras.models import Model\n",
        "from tensorflow.keras.optimizers import SGD, Adam\n",
        "\n",
        "%matplotlib inline"
      ],
      "execution_count": 0,
      "outputs": []
    },
    {
      "cell_type": "code",
      "metadata": {
        "id": "bn2dGhVO3kQh",
        "colab_type": "code",
        "colab": {
          "base_uri": "https://localhost:8080/",
          "height": 69
        },
        "outputId": "77a1f3b7-607d-41f1-fd3c-debc19296db5"
      },
      "source": [
        "mnist = tf.keras.datasets.mnist\n",
        "\n",
        "(x_train,y_train),(x_test,y_test) = mnist.load_data()\n",
        "x_train,x_test = x_train/255.0, x_test/255.0\n",
        "\n",
        "print (\"x_train.shape: {}\".format(x_train.shape))"
      ],
      "execution_count": 2,
      "outputs": [
        {
          "output_type": "stream",
          "text": [
            "Downloading data from https://storage.googleapis.com/tensorflow/tf-keras-datasets/mnist.npz\n",
            "11493376/11490434 [==============================] - 0s 0us/step\n",
            "x_train.shape: (60000, 28, 28)\n"
          ],
          "name": "stdout"
        }
      ]
    },
    {
      "cell_type": "code",
      "metadata": {
        "id": "XXrqTi7c3lp6",
        "colab_type": "code",
        "colab": {}
      },
      "source": [
        "i = Input(shape=x_train[0].shape)\n",
        "x = LSTM(128)(i)\n",
        "x = Dense(10,activation='softmax')(x)\n",
        "\n",
        "model = Model(i,x)"
      ],
      "execution_count": 0,
      "outputs": []
    },
    {
      "cell_type": "code",
      "metadata": {
        "id": "iszOZuVs3nYZ",
        "colab_type": "code",
        "colab": {
          "base_uri": "https://localhost:8080/",
          "height": 384
        },
        "outputId": "c330d6ff-8734-4da4-9f45-ecc47f0c1a5a"
      },
      "source": [
        "model.compile(optimizer='adam',loss='sparse_categorical_crossentropy',metrics=['accuracy'])\n",
        "r = model.fit(x_train,y_train,validation_data=(x_test,y_test),epochs=10)"
      ],
      "execution_count": 4,
      "outputs": [
        {
          "output_type": "stream",
          "text": [
            "Epoch 1/10\n",
            "1875/1875 [==============================] - 52s 28ms/step - loss: 0.3370 - accuracy: 0.8924 - val_loss: 0.1424 - val_accuracy: 0.9571\n",
            "Epoch 2/10\n",
            "1875/1875 [==============================] - 49s 26ms/step - loss: 0.1081 - accuracy: 0.9673 - val_loss: 0.1028 - val_accuracy: 0.9692\n",
            "Epoch 3/10\n",
            "1875/1875 [==============================] - 49s 26ms/step - loss: 0.0746 - accuracy: 0.9772 - val_loss: 0.0757 - val_accuracy: 0.9769\n",
            "Epoch 4/10\n",
            "1875/1875 [==============================] - 52s 28ms/step - loss: 0.0590 - accuracy: 0.9818 - val_loss: 0.0576 - val_accuracy: 0.9835\n",
            "Epoch 5/10\n",
            "1875/1875 [==============================] - 54s 29ms/step - loss: 0.0480 - accuracy: 0.9856 - val_loss: 0.0514 - val_accuracy: 0.9839\n",
            "Epoch 6/10\n",
            "1875/1875 [==============================] - 53s 28ms/step - loss: 0.0398 - accuracy: 0.9881 - val_loss: 0.0505 - val_accuracy: 0.9847\n",
            "Epoch 7/10\n",
            "1875/1875 [==============================] - 53s 28ms/step - loss: 0.0331 - accuracy: 0.9898 - val_loss: 0.0421 - val_accuracy: 0.9867\n",
            "Epoch 8/10\n",
            "1875/1875 [==============================] - 54s 29ms/step - loss: 0.0294 - accuracy: 0.9908 - val_loss: 0.0452 - val_accuracy: 0.9859\n",
            "Epoch 9/10\n",
            "1875/1875 [==============================] - 53s 28ms/step - loss: 0.0252 - accuracy: 0.9923 - val_loss: 0.0364 - val_accuracy: 0.9883\n",
            "Epoch 10/10\n",
            "1875/1875 [==============================] - 54s 29ms/step - loss: 0.0215 - accuracy: 0.9936 - val_loss: 0.0448 - val_accuracy: 0.9867\n"
          ],
          "name": "stdout"
        }
      ]
    },
    {
      "cell_type": "code",
      "metadata": {
        "id": "6zcv92V33poK",
        "colab_type": "code",
        "colab": {}
      },
      "source": [
        "plt.figure(figsize=(10,7))\n",
        "plt.plot(r.history['loss'],label='loss')\n",
        "plt.plot(r.history['val_loss'],label='val_loss')\n",
        "plt.legend()\n",
        "plt.show()"
      ],
      "execution_count": 0,
      "outputs": []
    },
    {
      "cell_type": "code",
      "metadata": {
        "id": "fqTWl4ns39zu",
        "colab_type": "code",
        "colab": {
          "base_uri": "https://localhost:8080/",
          "height": 428
        },
        "outputId": "bd072b21-6b28-48ef-ceec-872d567983a7"
      },
      "source": [
        "plt.figure(figsize=(10,7))\n",
        "plt.plot(r.history['accuracy'],label='accuracy')\n",
        "plt.plot(r.history['val_accuracy'],label='val_accuracy')\n",
        "plt.legend()\n",
        "plt.show()"
      ],
      "execution_count": 5,
      "outputs": [
        {
          "output_type": "display_data",
          "data": {
            "image/png": "[encoded data removed]",
            "text/plain": [
              "<Figure size 720x504 with 1 Axes>"
            ]
          },
          "metadata": {
            "tags": [],
            "needs_background": "light"
          }
        }
      ]
    },
    {
      "cell_type": "code",
      "metadata": {
        "id": "VTXLyso23_dx",
        "colab_type": "code",
        "colab": {}
      },
      "source": [
        ""
      ],
      "execution_count": 0,
      "outputs": []
    }
  ]
}