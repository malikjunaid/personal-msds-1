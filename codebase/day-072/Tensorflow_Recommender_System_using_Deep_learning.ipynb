{
  "nbformat": 4,
  "nbformat_minor": 0,
  "metadata": {
    "colab": {
      "name": "Tensorflow Recommender System using Deep learning.ipynb",
      "provenance": [],
      "collapsed_sections": []
    },
    "kernelspec": {
      "name": "python3",
      "display_name": "Python 3"
    }
  },
  "cells": [
    {
      "cell_type": "code",
      "metadata": {
        "id": "ik_1-H9UGqSV",
        "colab_type": "code",
        "colab": {}
      },
      "source": [
        "from tensorflow.keras.layers import Input, Dense, Flatten, Concatenate, Embedding\n",
        "from tensorflow.keras.models import Model\n",
        "from tensorflow.keras.optimizers import Adam, SGD\n",
        "\n",
        "from sklearn.utils import shuffle\n",
        "import numpy as np\n",
        "import pandas as pd\n",
        "import matplotlib.pyplot as plt\n",
        "\n",
        "%matplotlib inline"
      ],
      "execution_count": 0,
      "outputs": []
    },
    {
      "cell_type": "code",
      "metadata": {
        "id": "085cKahHBT6A",
        "colab_type": "code",
        "colab": {
          "base_uri": "https://localhost:8080/",
          "height": 208
        },
        "outputId": "66a9167a-52d8-4764-c6e3-03f8d1836557"
      },
      "source": [
        "!wget http://files.grouplens.org/datasets/movielens/ml-20m.zip"
      ],
      "execution_count": 2,
      "outputs": [
        {
          "output_type": "stream",
          "text": [
            "--2020-06-11 17:22:07--  http://files.grouplens.org/datasets/movielens/ml-20m.zip\n",
            "Resolving files.grouplens.org (files.grouplens.org)... 128.101.65.152\n",
            "Connecting to files.grouplens.org (files.grouplens.org)|128.101.65.152|:80... connected.\n",
            "HTTP request sent, awaiting response... 200 OK\n",
            "Length: 198702078 (189M) [application/zip]\n",
            "Saving to: ‘ml-20m.zip.5’\n",
            "\n",
            "ml-20m.zip.5        100%[===================>] 189.50M  57.3MB/s    in 3.5s    \n",
            "\n",
            "2020-06-11 17:22:11 (54.4 MB/s) - ‘ml-20m.zip.5’ saved [198702078/198702078]\n",
            "\n"
          ],
          "name": "stdout"
        }
      ]
    },
    {
      "cell_type": "code",
      "metadata": {
        "id": "Wb2Jh_ZJBeeK",
        "colab_type": "code",
        "colab": {
          "base_uri": "https://localhost:8080/",
          "height": 34
        },
        "outputId": "2466d470-1b69-441d-85ff-d0350fa7f04c"
      },
      "source": [
        "!unzip -n ml-20m.zip"
      ],
      "execution_count": 3,
      "outputs": [
        {
          "output_type": "stream",
          "text": [
            "Archive:  ml-20m.zip\n"
          ],
          "name": "stdout"
        }
      ]
    },
    {
      "cell_type": "code",
      "metadata": {
        "id": "rHAeVLpZCd6E",
        "colab_type": "code",
        "colab": {
          "base_uri": "https://localhost:8080/",
          "height": 191
        },
        "outputId": "b002c16f-5a27-4e9b-943e-7ac2eab21d3f"
      },
      "source": [
        "!head ml-20m/movies.csv"
      ],
      "execution_count": 4,
      "outputs": [
        {
          "output_type": "stream",
          "text": [
            "movieId,title,genres\r\n",
            "1,Toy Story (1995),Adventure|Animation|Children|Comedy|Fantasy\r\n",
            "2,Jumanji (1995),Adventure|Children|Fantasy\r\n",
            "3,Grumpier Old Men (1995),Comedy|Romance\r\n",
            "4,Waiting to Exhale (1995),Comedy|Drama|Romance\r\n",
            "5,Father of the Bride Part II (1995),Comedy\r\n",
            "6,Heat (1995),Action|Crime|Thriller\r\n",
            "7,Sabrina (1995),Comedy|Romance\r\n",
            "8,Tom and Huck (1995),Adventure|Children\r\n",
            "9,Sudden Death (1995),Action\r\n"
          ],
          "name": "stdout"
        }
      ]
    },
    {
      "cell_type": "code",
      "metadata": {
        "id": "pQfUiZ4KClRd",
        "colab_type": "code",
        "colab": {
          "base_uri": "https://localhost:8080/",
          "height": 191
        },
        "outputId": "28ae309c-4e9d-4e35-9665-ec1ec8f07648"
      },
      "source": [
        "!head ml-20m/links.csv"
      ],
      "execution_count": 5,
      "outputs": [
        {
          "output_type": "stream",
          "text": [
            "movieId,imdbId,tmdbId\r\n",
            "1,0114709,862\r\n",
            "2,0113497,8844\r\n",
            "3,0113228,15602\r\n",
            "4,0114885,31357\r\n",
            "5,0113041,11862\r\n",
            "6,0113277,949\r\n",
            "7,0114319,11860\r\n",
            "8,0112302,45325\r\n",
            "9,0114576,9091\r\n"
          ],
          "name": "stdout"
        }
      ]
    },
    {
      "cell_type": "code",
      "metadata": {
        "id": "5CERH8scCyx8",
        "colab_type": "code",
        "colab": {
          "base_uri": "https://localhost:8080/",
          "height": 206
        },
        "outputId": "9712bd96-41ce-4941-c6ca-994f2f3e037a"
      },
      "source": [
        "df = pd.read_csv(\"ml-20m/ratings.csv\")\n",
        "df.head()"
      ],
      "execution_count": 6,
      "outputs": [
        {
          "output_type": "execute_result",
          "data": {
            "text/html": [
              "<div>\n",
              "<style scoped>\n",
              "    .dataframe tbody tr th:only-of-type {\n",
              "        vertical-align: middle;\n",
              "    }\n",
              "\n",
              "    .dataframe tbody tr th {\n",
              "        vertical-align: top;\n",
              "    }\n",
              "\n",
              "    .dataframe thead th {\n",
              "        text-align: right;\n",
              "    }\n",
              "</style>\n",
              "<table border=\"1\" class=\"dataframe\">\n",
              "  <thead>\n",
              "    <tr style=\"text-align: right;\">\n",
              "      <th></th>\n",
              "      <th>userId</th>\n",
              "      <th>movieId</th>\n",
              "      <th>rating</th>\n",
              "      <th>timestamp</th>\n",
              "    </tr>\n",
              "  </thead>\n",
              "  <tbody>\n",
              "    <tr>\n",
              "      <th>0</th>\n",
              "      <td>1</td>\n",
              "      <td>2</td>\n",
              "      <td>3.5</td>\n",
              "      <td>1112486027</td>\n",
              "    </tr>\n",
              "    <tr>\n",
              "      <th>1</th>\n",
              "      <td>1</td>\n",
              "      <td>29</td>\n",
              "      <td>3.5</td>\n",
              "      <td>1112484676</td>\n",
              "    </tr>\n",
              "    <tr>\n",
              "      <th>2</th>\n",
              "      <td>1</td>\n",
              "      <td>32</td>\n",
              "      <td>3.5</td>\n",
              "      <td>1112484819</td>\n",
              "    </tr>\n",
              "    <tr>\n",
              "      <th>3</th>\n",
              "      <td>1</td>\n",
              "      <td>47</td>\n",
              "      <td>3.5</td>\n",
              "      <td>1112484727</td>\n",
              "    </tr>\n",
              "    <tr>\n",
              "      <th>4</th>\n",
              "      <td>1</td>\n",
              "      <td>50</td>\n",
              "      <td>3.5</td>\n",
              "      <td>1112484580</td>\n",
              "    </tr>\n",
              "  </tbody>\n",
              "</table>\n",
              "</div>"
            ],
            "text/plain": [
              "   userId  movieId  rating   timestamp\n",
              "0       1        2     3.5  1112486027\n",
              "1       1       29     3.5  1112484676\n",
              "2       1       32     3.5  1112484819\n",
              "3       1       47     3.5  1112484727\n",
              "4       1       50     3.5  1112484580"
            ]
          },
          "metadata": {
            "tags": []
          },
          "execution_count": 6
        }
      ]
    },
    {
      "cell_type": "code",
      "metadata": {
        "id": "MAeikbk2MDm_",
        "colab_type": "code",
        "colab": {
          "base_uri": "https://localhost:8080/",
          "height": 52
        },
        "outputId": "7e0ac263-9d4c-4709-8c2c-4b5e98724382"
      },
      "source": [
        "print (\"Size of the dataset: {}\".format(len(df)))\n",
        "# Shuffling the dataset\n",
        "df = df.sample(frac=1.0)\n",
        "# For saving time making the dataset smaller\n",
        "df = df[:100000]\n",
        "print (\"Size of the dataset: {}\".format(len(df)))"
      ],
      "execution_count": 7,
      "outputs": [
        {
          "output_type": "stream",
          "text": [
            "Size of the dataset: 20000263\n",
            "Size of the dataset: 100000\n"
          ],
          "name": "stdout"
        }
      ]
    },
    {
      "cell_type": "code",
      "metadata": {
        "id": "T8pAsdqHHB9u",
        "colab_type": "code",
        "colab": {
          "base_uri": "https://localhost:8080/",
          "height": 206
        },
        "outputId": "20253a63-e004-4ddc-cd21-a2639a311736"
      },
      "source": [
        "df.userId = pd.Categorical(df['userId'])\n",
        "df['new_user_id']= df.userId.cat.codes\n",
        "\n",
        "df.userId = pd.Categorical(df['movieId'])\n",
        "df['new_movie_id']= df.userId.cat.codes\n",
        "\n",
        "df.head()"
      ],
      "execution_count": 8,
      "outputs": [
        {
          "output_type": "execute_result",
          "data": {
            "text/html": [
              "<div>\n",
              "<style scoped>\n",
              "    .dataframe tbody tr th:only-of-type {\n",
              "        vertical-align: middle;\n",
              "    }\n",
              "\n",
              "    .dataframe tbody tr th {\n",
              "        vertical-align: top;\n",
              "    }\n",
              "\n",
              "    .dataframe thead th {\n",
              "        text-align: right;\n",
              "    }\n",
              "</style>\n",
              "<table border=\"1\" class=\"dataframe\">\n",
              "  <thead>\n",
              "    <tr style=\"text-align: right;\">\n",
              "      <th></th>\n",
              "      <th>userId</th>\n",
              "      <th>movieId</th>\n",
              "      <th>rating</th>\n",
              "      <th>timestamp</th>\n",
              "      <th>new_user_id</th>\n",
              "      <th>new_movie_id</th>\n",
              "    </tr>\n",
              "  </thead>\n",
              "  <tbody>\n",
              "    <tr>\n",
              "      <th>19597492</th>\n",
              "      <td>2161</td>\n",
              "      <td>2161</td>\n",
              "      <td>3.5</td>\n",
              "      <td>1126015001</td>\n",
              "      <td>51136</td>\n",
              "      <td>1717</td>\n",
              "    </tr>\n",
              "    <tr>\n",
              "      <th>7869571</th>\n",
              "      <td>2881</td>\n",
              "      <td>2881</td>\n",
              "      <td>3.0</td>\n",
              "      <td>1044463471</td>\n",
              "      <td>20532</td>\n",
              "      <td>2308</td>\n",
              "    </tr>\n",
              "    <tr>\n",
              "      <th>796721</th>\n",
              "      <td>6218</td>\n",
              "      <td>6218</td>\n",
              "      <td>4.5</td>\n",
              "      <td>1081844306</td>\n",
              "      <td>2071</td>\n",
              "      <td>4475</td>\n",
              "    </tr>\n",
              "    <tr>\n",
              "      <th>4679564</th>\n",
              "      <td>173</td>\n",
              "      <td>173</td>\n",
              "      <td>1.0</td>\n",
              "      <td>841620544</td>\n",
              "      <td>12220</td>\n",
              "      <td>156</td>\n",
              "    </tr>\n",
              "    <tr>\n",
              "      <th>4843903</th>\n",
              "      <td>3993</td>\n",
              "      <td>3993</td>\n",
              "      <td>4.0</td>\n",
              "      <td>1002856234</td>\n",
              "      <td>12665</td>\n",
              "      <td>3122</td>\n",
              "    </tr>\n",
              "  </tbody>\n",
              "</table>\n",
              "</div>"
            ],
            "text/plain": [
              "         userId  movieId  rating   timestamp  new_user_id  new_movie_id\n",
              "19597492   2161     2161     3.5  1126015001        51136          1717\n",
              "7869571    2881     2881     3.0  1044463471        20532          2308\n",
              "796721     6218     6218     4.5  1081844306         2071          4475\n",
              "4679564     173      173     1.0   841620544        12220           156\n",
              "4843903    3993     3993     4.0  1002856234        12665          3122"
            ]
          },
          "metadata": {
            "tags": []
          },
          "execution_count": 8
        }
      ]
    },
    {
      "cell_type": "code",
      "metadata": {
        "id": "Y6jBUlcEIwZ9",
        "colab_type": "code",
        "colab": {}
      },
      "source": [
        "new_user_ids = df['new_user_id'].values\n",
        "new_movie_ids = df['new_movie_id'].values\n",
        "rating = df['rating'].values\n",
        "\n",
        "N = len(set(new_user_ids))\n",
        "M = len(set(new_movie_ids))\n",
        "\n",
        "K = 15"
      ],
      "execution_count": 0,
      "outputs": []
    },
    {
      "cell_type": "code",
      "metadata": {
        "id": "2RkrjJ0TJMMU",
        "colab_type": "code",
        "colab": {}
      },
      "source": [
        "u = Input((1,))\n",
        "m = Input((1,))\n",
        "\n",
        "u_emb = Embedding(N,K)(u)\n",
        "m_emb = Embedding(M,K)(m)\n",
        "\n",
        "u_emb = Flatten()(u_emb)\n",
        "m_emb = Flatten()(m_emb)\n",
        "\n",
        "x = Concatenate()([u_emb,m_emb])\n",
        "x = Dense(1024,activation='relu')(x)\n",
        "x = Dense(1)(x)\n",
        "\n",
        "model = Model(inputs=[u,m],outputs=x)\n",
        "\n",
        "model.compile(\n",
        "    loss='mse',\n",
        "    optimizer=Adam(0.01),\n",
        ")"
      ],
      "execution_count": 0,
      "outputs": []
    },
    {
      "cell_type": "code",
      "metadata": {
        "id": "MOF9UzErKSBY",
        "colab_type": "code",
        "colab": {}
      },
      "source": [
        "user_ids,movie_ids,ratings = shuffle(new_user_ids, new_movie_ids, rating)\n",
        "Ntrain = int(0.9 * len(ratings))\n",
        "train_user = user_ids[:Ntrain]\n",
        "train_movies = movie_ids[:Ntrain]\n",
        "train_ratings = ratings[:Ntrain]\n",
        "\n",
        "test_user = user_ids[Ntrain:]\n",
        "test_movie = movie_ids[Ntrain:]\n",
        "test_ratings = ratings[Ntrain:]"
      ],
      "execution_count": 0,
      "outputs": []
    },
    {
      "cell_type": "code",
      "metadata": {
        "id": "sLZknYbkK8WL",
        "colab_type": "code",
        "colab": {
          "base_uri": "https://localhost:8080/",
          "height": 885
        },
        "outputId": "a144d263-f19c-41d3-f37a-a739810d778a"
      },
      "source": [
        "r = model.fit(\n",
        "    x = [train_user,train_movies],\n",
        "    y = train_ratings,\n",
        "    batch_size=64,\n",
        "    epochs=25,\n",
        "    validation_data = ([test_user,test_movie],test_ratings)\n",
        ")"
      ],
      "execution_count": 12,
      "outputs": [
        {
          "output_type": "stream",
          "text": [
            "Epoch 1/25\n",
            "1407/1407 [==============================] - 17s 12ms/step - loss: 1.0923 - val_loss: 0.9923\n",
            "Epoch 2/25\n",
            "1407/1407 [==============================] - 16s 11ms/step - loss: 0.7833 - val_loss: 1.0085\n",
            "Epoch 3/25\n",
            "1407/1407 [==============================] - 17s 12ms/step - loss: 0.5738 - val_loss: 1.0669\n",
            "Epoch 4/25\n",
            "1407/1407 [==============================] - 16s 12ms/step - loss: 0.4542 - val_loss: 1.1171\n",
            "Epoch 5/25\n",
            "1407/1407 [==============================] - 16s 12ms/step - loss: 0.3587 - val_loss: 1.0958\n",
            "Epoch 6/25\n",
            "1407/1407 [==============================] - 16s 12ms/step - loss: 0.2802 - val_loss: 1.1047\n",
            "Epoch 7/25\n",
            "1407/1407 [==============================] - 16s 12ms/step - loss: 0.2223 - val_loss: 1.1131\n",
            "Epoch 8/25\n",
            "1407/1407 [==============================] - 16s 12ms/step - loss: 0.1788 - val_loss: 1.1613\n",
            "Epoch 9/25\n",
            "1407/1407 [==============================] - 17s 12ms/step - loss: 0.1514 - val_loss: 1.1433\n",
            "Epoch 10/25\n",
            "1407/1407 [==============================] - 16s 12ms/step - loss: 0.1315 - val_loss: 1.1531\n",
            "Epoch 11/25\n",
            "1407/1407 [==============================] - 18s 13ms/step - loss: 0.1175 - val_loss: 1.1403\n",
            "Epoch 12/25\n",
            "1407/1407 [==============================] - 16s 12ms/step - loss: 0.1052 - val_loss: 1.1514\n",
            "Epoch 13/25\n",
            "1407/1407 [==============================] - 16s 12ms/step - loss: 0.0970 - val_loss: 1.1129\n",
            "Epoch 14/25\n",
            "1407/1407 [==============================] - 16s 11ms/step - loss: 0.0896 - val_loss: 1.1084\n",
            "Epoch 15/25\n",
            "1407/1407 [==============================] - 16s 11ms/step - loss: 0.0825 - val_loss: 1.1333\n",
            "Epoch 16/25\n",
            "1407/1407 [==============================] - 16s 11ms/step - loss: 0.0773 - val_loss: 1.1036\n",
            "Epoch 17/25\n",
            "1407/1407 [==============================] - 16s 11ms/step - loss: 0.0734 - val_loss: 1.0730\n",
            "Epoch 18/25\n",
            "1407/1407 [==============================] - 16s 12ms/step - loss: 0.0709 - val_loss: 1.0937\n",
            "Epoch 19/25\n",
            "1407/1407 [==============================] - 16s 11ms/step - loss: 0.0651 - val_loss: 1.1443\n",
            "Epoch 20/25\n",
            "1407/1407 [==============================] - 16s 11ms/step - loss: 0.0631 - val_loss: 1.1017\n",
            "Epoch 21/25\n",
            "1407/1407 [==============================] - 16s 11ms/step - loss: 0.0592 - val_loss: 1.1314\n",
            "Epoch 22/25\n",
            "1407/1407 [==============================] - 17s 12ms/step - loss: 0.0578 - val_loss: 1.0946\n",
            "Epoch 23/25\n",
            "1407/1407 [==============================] - 16s 11ms/step - loss: 0.0568 - val_loss: 1.1252\n",
            "Epoch 24/25\n",
            "1407/1407 [==============================] - 16s 11ms/step - loss: 0.0541 - val_loss: 1.1048\n",
            "Epoch 25/25\n",
            "1407/1407 [==============================] - 16s 11ms/step - loss: 0.0682 - val_loss: 1.1163\n"
          ],
          "name": "stdout"
        }
      ]
    },
    {
      "cell_type": "code",
      "metadata": {
        "id": "IpH7wUhbLhD5",
        "colab_type": "code",
        "colab": {
          "base_uri": "https://localhost:8080/",
          "height": 428
        },
        "outputId": "e8e05e93-933e-42cd-a440-0b548a32ed76"
      },
      "source": [
        "plt.figure(figsize=(10,7))\n",
        "plt.plot(r.history['loss'],label='loss')\n",
        "plt.plot(r.history['val_loss'],label='val_loss')\n",
        "plt.show()"
      ],
      "execution_count": 13,
      "outputs": [
        {
          "output_type": "display_data",
          "data": {
            "image/png": "[encoded data removed]",
            "text/plain": [
              "<Figure size 720x504 with 1 Axes>"
            ]
          },
          "metadata": {
            "tags": [],
            "needs_background": "light"
          }
        }
      ]
    },
    {
      "cell_type": "code",
      "metadata": {
        "id": "_AqKDV04RCUH",
        "colab_type": "code",
        "colab": {}
      },
      "source": [
        " "
      ],
      "execution_count": 0,
      "outputs": []
    }
  ]
}