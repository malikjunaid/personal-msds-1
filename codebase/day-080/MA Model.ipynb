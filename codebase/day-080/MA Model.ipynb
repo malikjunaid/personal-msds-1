{
 "cells": [
  {
   "cell_type": "code",
   "execution_count": 1,
   "metadata": {},
   "outputs": [],
   "source": [
    "import pandas as pd\n",
    "import numpy as np\n",
    "import scipy.stats\n",
    "import pylab\n",
    "import matplotlib.pyplot as plt\n",
    "import statsmodels.graphics.tsaplots as sgt\n",
    "import statsmodels.tsa.stattools as sts\n",
    "from statsmodels.tsa.arima_model import ARMA\n",
    "from scipy.stats.distributions import chi2\n",
    "from statsmodels.tsa.seasonal import seasonal_decompose\n",
    "import seaborn as sns\n",
    "sns.set()\n",
    "\n",
    "%matplotlib inline"
   ]
  },
  {
   "cell_type": "code",
   "execution_count": 3,
   "metadata": {},
   "outputs": [
    {
     "name": "stderr",
     "output_type": "stream",
     "text": [
      "/home/mohsin/anaconda3/lib/python3.7/site-packages/ipykernel_launcher.py:8: SettingWithCopyWarning: \n",
      "A value is trying to be set on a copy of a slice from a DataFrame.\n",
      "Try using .loc[row_indexer,col_indexer] = value instead\n",
      "\n",
      "See the caveats in the documentation: http://pandas.pydata.org/pandas-docs/stable/user_guide/indexing.html#returning-a-view-versus-a-copy\n",
      "  \n",
      "/home/mohsin/anaconda3/lib/python3.7/site-packages/ipykernel_launcher.py:9: SettingWithCopyWarning: \n",
      "A value is trying to be set on a copy of a slice from a DataFrame.\n",
      "Try using .loc[row_indexer,col_indexer] = value instead\n",
      "\n",
      "See the caveats in the documentation: http://pandas.pydata.org/pandas-docs/stable/user_guide/indexing.html#returning-a-view-versus-a-copy\n",
      "  if __name__ == '__main__':\n",
      "/home/mohsin/anaconda3/lib/python3.7/site-packages/ipykernel_launcher.py:10: SettingWithCopyWarning: \n",
      "A value is trying to be set on a copy of a slice from a DataFrame.\n",
      "Try using .loc[row_indexer,col_indexer] = value instead\n",
      "\n",
      "See the caveats in the documentation: http://pandas.pydata.org/pandas-docs/stable/user_guide/indexing.html#returning-a-view-versus-a-copy\n",
      "  # Remove the CWD from sys.path while we load stuff.\n",
      "/home/mohsin/anaconda3/lib/python3.7/site-packages/ipykernel_launcher.py:11: SettingWithCopyWarning: \n",
      "A value is trying to be set on a copy of a slice from a DataFrame.\n",
      "Try using .loc[row_indexer,col_indexer] = value instead\n",
      "\n",
      "See the caveats in the documentation: http://pandas.pydata.org/pandas-docs/stable/user_guide/indexing.html#returning-a-view-versus-a-copy\n",
      "  # This is added back by InteractiveShellApp.init_path()\n"
     ]
    },
    {
     "data": {
      "text/html": [
       "<div>\n",
       "<style scoped>\n",
       "    .dataframe tbody tr th:only-of-type {\n",
       "        vertical-align: middle;\n",
       "    }\n",
       "\n",
       "    .dataframe tbody tr th {\n",
       "        vertical-align: top;\n",
       "    }\n",
       "\n",
       "    .dataframe thead th {\n",
       "        text-align: right;\n",
       "    }\n",
       "</style>\n",
       "<table border=\"1\" class=\"dataframe\">\n",
       "  <thead>\n",
       "    <tr style=\"text-align: right;\">\n",
       "      <th></th>\n",
       "      <th>Date</th>\n",
       "      <th>GOLD</th>\n",
       "      <th>GOOG</th>\n",
       "      <th>AAPL</th>\n",
       "      <th>MSFT</th>\n",
       "      <th>AMZN</th>\n",
       "    </tr>\n",
       "  </thead>\n",
       "  <tbody>\n",
       "    <tr>\n",
       "      <td>0</td>\n",
       "      <td>2005-06-20</td>\n",
       "      <td>24.320000</td>\n",
       "      <td>142.814697</td>\n",
       "      <td>5.372857</td>\n",
       "      <td>25.110001</td>\n",
       "      <td>35.689999</td>\n",
       "    </tr>\n",
       "    <tr>\n",
       "      <td>1</td>\n",
       "      <td>2005-06-21</td>\n",
       "      <td>24.389999</td>\n",
       "      <td>143.382568</td>\n",
       "      <td>5.408571</td>\n",
       "      <td>25.150000</td>\n",
       "      <td>35.380001</td>\n",
       "    </tr>\n",
       "    <tr>\n",
       "      <td>2</td>\n",
       "      <td>2005-06-22</td>\n",
       "      <td>24.480000</td>\n",
       "      <td>144.109848</td>\n",
       "      <td>5.507143</td>\n",
       "      <td>25.070000</td>\n",
       "      <td>35.220001</td>\n",
       "    </tr>\n",
       "    <tr>\n",
       "      <td>3</td>\n",
       "      <td>2005-06-23</td>\n",
       "      <td>24.750000</td>\n",
       "      <td>144.314072</td>\n",
       "      <td>5.555714</td>\n",
       "      <td>25.309999</td>\n",
       "      <td>35.430000</td>\n",
       "    </tr>\n",
       "    <tr>\n",
       "      <td>4</td>\n",
       "      <td>2005-06-24</td>\n",
       "      <td>24.920000</td>\n",
       "      <td>148.069992</td>\n",
       "      <td>5.394286</td>\n",
       "      <td>25.040001</td>\n",
       "      <td>35.020000</td>\n",
       "    </tr>\n",
       "  </tbody>\n",
       "</table>\n",
       "</div>"
      ],
      "text/plain": [
       "         Date       GOLD        GOOG      AAPL       MSFT       AMZN\n",
       "0  2005-06-20  24.320000  142.814697  5.372857  25.110001  35.689999\n",
       "1  2005-06-21  24.389999  143.382568  5.408571  25.150000  35.380001\n",
       "2  2005-06-22  24.480000  144.109848  5.507143  25.070000  35.220001\n",
       "3  2005-06-23  24.750000  144.314072  5.555714  25.309999  35.430000\n",
       "4  2005-06-24  24.920000  148.069992  5.394286  25.040001  35.020000"
      ]
     },
     "execution_count": 3,
     "metadata": {},
     "output_type": "execute_result"
    }
   ],
   "source": [
    "df_gold = pd.read_csv('stock-data/GOLD.csv')\n",
    "df_goog = pd.read_csv('stock-data/GOOG.csv')\n",
    "df_aapl = pd.read_csv('stock-data/AAPL.csv')\n",
    "df_msft = pd.read_csv('stock-data/MSFT.csv')\n",
    "df_amzn = pd.read_csv('stock-data/AMZN.csv')\n",
    "df = df_gold[['Date','Close']]\n",
    "df.rename(columns={\"Close\":\"GOLD\"},inplace=True)\n",
    "df['GOOG'] = df_goog['Close'].tolist()\n",
    "df['AAPL'] = df_aapl['Close'].tolist()\n",
    "df['MSFT'] = df_msft['Close'].tolist()\n",
    "df['AMZN'] = df_amzn['Close'].tolist()\n",
    "df = df.fillna(method='ffill')\n",
    "df.head()"
   ]
  },
  {
   "cell_type": "code",
   "execution_count": 6,
   "metadata": {},
   "outputs": [
    {
     "data": {
      "text/html": [
       "<div>\n",
       "<style scoped>\n",
       "    .dataframe tbody tr th:only-of-type {\n",
       "        vertical-align: middle;\n",
       "    }\n",
       "\n",
       "    .dataframe tbody tr th {\n",
       "        vertical-align: top;\n",
       "    }\n",
       "\n",
       "    .dataframe thead th {\n",
       "        text-align: right;\n",
       "    }\n",
       "</style>\n",
       "<table border=\"1\" class=\"dataframe\">\n",
       "  <thead>\n",
       "    <tr style=\"text-align: right;\">\n",
       "      <th></th>\n",
       "      <th>Date</th>\n",
       "      <th>GOLD</th>\n",
       "      <th>GOOG</th>\n",
       "      <th>AAPL</th>\n",
       "      <th>MSFT</th>\n",
       "      <th>AMZN</th>\n",
       "      <th>amzn_returns</th>\n",
       "    </tr>\n",
       "  </thead>\n",
       "  <tbody>\n",
       "    <tr>\n",
       "      <td>0</td>\n",
       "      <td>2005-06-20</td>\n",
       "      <td>24.320000</td>\n",
       "      <td>142.814697</td>\n",
       "      <td>5.372857</td>\n",
       "      <td>25.110001</td>\n",
       "      <td>35.689999</td>\n",
       "      <td>NaN</td>\n",
       "    </tr>\n",
       "    <tr>\n",
       "      <td>1</td>\n",
       "      <td>2005-06-21</td>\n",
       "      <td>24.389999</td>\n",
       "      <td>143.382568</td>\n",
       "      <td>5.408571</td>\n",
       "      <td>25.150000</td>\n",
       "      <td>35.380001</td>\n",
       "      <td>-0.868585</td>\n",
       "    </tr>\n",
       "    <tr>\n",
       "      <td>2</td>\n",
       "      <td>2005-06-22</td>\n",
       "      <td>24.480000</td>\n",
       "      <td>144.109848</td>\n",
       "      <td>5.507143</td>\n",
       "      <td>25.070000</td>\n",
       "      <td>35.220001</td>\n",
       "      <td>-0.452233</td>\n",
       "    </tr>\n",
       "    <tr>\n",
       "      <td>3</td>\n",
       "      <td>2005-06-23</td>\n",
       "      <td>24.750000</td>\n",
       "      <td>144.314072</td>\n",
       "      <td>5.555714</td>\n",
       "      <td>25.309999</td>\n",
       "      <td>35.430000</td>\n",
       "      <td>0.596249</td>\n",
       "    </tr>\n",
       "    <tr>\n",
       "      <td>4</td>\n",
       "      <td>2005-06-24</td>\n",
       "      <td>24.920000</td>\n",
       "      <td>148.069992</td>\n",
       "      <td>5.394286</td>\n",
       "      <td>25.040001</td>\n",
       "      <td>35.020000</td>\n",
       "      <td>-1.157211</td>\n",
       "    </tr>\n",
       "  </tbody>\n",
       "</table>\n",
       "</div>"
      ],
      "text/plain": [
       "         Date       GOLD        GOOG      AAPL       MSFT       AMZN  \\\n",
       "0  2005-06-20  24.320000  142.814697  5.372857  25.110001  35.689999   \n",
       "1  2005-06-21  24.389999  143.382568  5.408571  25.150000  35.380001   \n",
       "2  2005-06-22  24.480000  144.109848  5.507143  25.070000  35.220001   \n",
       "3  2005-06-23  24.750000  144.314072  5.555714  25.309999  35.430000   \n",
       "4  2005-06-24  24.920000  148.069992  5.394286  25.040001  35.020000   \n",
       "\n",
       "   amzn_returns  \n",
       "0           NaN  \n",
       "1     -0.868585  \n",
       "2     -0.452233  \n",
       "3      0.596249  \n",
       "4     -1.157211  "
      ]
     },
     "execution_count": 6,
     "metadata": {},
     "output_type": "execute_result"
    }
   ],
   "source": [
    "df['amzn_returns'] = df['AMZN'].pct_change(1).mul(100)\n",
    "df.head()"
   ]
  },
  {
   "cell_type": "code",
   "execution_count": 8,
   "metadata": {},
   "outputs": [
    {
     "data": {
      "image/png": "[encoded data removed]",
      "text/plain": [
       "<Figure size 432x288 with 1 Axes>"
      ]
     },
     "metadata": {
      "needs_background": "light"
     },
     "output_type": "display_data"
    }
   ],
   "source": [
    "sgt.plot_acf(df['amzn_returns'].iloc[1:],lags=40,zero=False)\n",
    "plt.title(\"Amazon ACF plot\",size=25)\n",
    "plt.show()"
   ]
  },
  {
   "cell_type": "code",
   "execution_count": 11,
   "metadata": {},
   "outputs": [],
   "source": [
    "def LLR_test(model_1,model_2,DF=1): # DF = Degree of Freedom\n",
    "    L1 = model_1.fit().llf\n",
    "    L2 = model_2.fit().llf\n",
    "    LR = (2 * (L2-L1))\n",
    "    p = chi2.sf(LR,DF).round(3)\n",
    "    return p"
   ]
  },
  {
   "cell_type": "markdown",
   "metadata": {},
   "source": [
    "## MA(1) Returns"
   ]
  },
  {
   "cell_type": "code",
   "execution_count": 9,
   "metadata": {},
   "outputs": [
    {
     "data": {
      "text/html": [
       "<table class=\"simpletable\">\n",
       "<caption>ARMA Model Results</caption>\n",
       "<tr>\n",
       "  <th>Dep. Variable:</th>   <td>amzn_returns</td>   <th>  No. Observations:  </th>   <td>3776</td>   \n",
       "</tr>\n",
       "<tr>\n",
       "  <th>Model:</th>            <td>ARMA(0, 1)</td>    <th>  Log Likelihood     </th> <td>-8730.920</td>\n",
       "</tr>\n",
       "<tr>\n",
       "  <th>Method:</th>             <td>css-mle</td>     <th>  S.D. of innovations</th>   <td>2.443</td>  \n",
       "</tr>\n",
       "<tr>\n",
       "  <th>Date:</th>          <td>Sat, 27 Jun 2020</td> <th>  AIC                </th> <td>17467.841</td>\n",
       "</tr>\n",
       "<tr>\n",
       "  <th>Time:</th>              <td>12:13:52</td>     <th>  BIC                </th> <td>17486.550</td>\n",
       "</tr>\n",
       "<tr>\n",
       "  <th>Sample:</th>                <td>0</td>        <th>  HQIC               </th> <td>17474.492</td>\n",
       "</tr>\n",
       "<tr>\n",
       "  <th></th>                       <td> </td>        <th>                     </th>     <td> </td>    \n",
       "</tr>\n",
       "</table>\n",
       "<table class=\"simpletable\">\n",
       "<tr>\n",
       "           <td></td>             <th>coef</th>     <th>std err</th>      <th>z</th>      <th>P>|z|</th>  <th>[0.025</th>    <th>0.975]</th>  \n",
       "</tr>\n",
       "<tr>\n",
       "  <th>const</th>              <td>    0.1438</td> <td>    0.039</td> <td>    3.656</td> <td> 0.000</td> <td>    0.067</td> <td>    0.221</td>\n",
       "</tr>\n",
       "<tr>\n",
       "  <th>ma.L1.amzn_returns</th> <td>   -0.0106</td> <td>    0.017</td> <td>   -0.619</td> <td> 0.536</td> <td>   -0.044</td> <td>    0.023</td>\n",
       "</tr>\n",
       "</table>\n",
       "<table class=\"simpletable\">\n",
       "<caption>Roots</caption>\n",
       "<tr>\n",
       "    <td></td>   <th>            Real</th>  <th>         Imaginary</th> <th>         Modulus</th>  <th>        Frequency</th>\n",
       "</tr>\n",
       "<tr>\n",
       "  <th>MA.1</th> <td>          93.9018</td> <td>          +0.0000j</td> <td>          93.9018</td> <td>           0.0000</td>\n",
       "</tr>\n",
       "</table>"
      ],
      "text/plain": [
       "<class 'statsmodels.iolib.summary.Summary'>\n",
       "\"\"\"\n",
       "                              ARMA Model Results                              \n",
       "==============================================================================\n",
       "Dep. Variable:           amzn_returns   No. Observations:                 3776\n",
       "Model:                     ARMA(0, 1)   Log Likelihood               -8730.920\n",
       "Method:                       css-mle   S.D. of innovations              2.443\n",
       "Date:                Sat, 27 Jun 2020   AIC                          17467.841\n",
       "Time:                        12:13:52   BIC                          17486.550\n",
       "Sample:                             0   HQIC                         17474.492\n",
       "                                                                              \n",
       "======================================================================================\n",
       "                         coef    std err          z      P>|z|      [0.025      0.975]\n",
       "--------------------------------------------------------------------------------------\n",
       "const                  0.1438      0.039      3.656      0.000       0.067       0.221\n",
       "ma.L1.amzn_returns    -0.0106      0.017     -0.619      0.536      -0.044       0.023\n",
       "                                    Roots                                    \n",
       "=============================================================================\n",
       "                  Real          Imaginary           Modulus         Frequency\n",
       "-----------------------------------------------------------------------------\n",
       "MA.1           93.9018           +0.0000j           93.9018            0.0000\n",
       "-----------------------------------------------------------------------------\n",
       "\"\"\""
      ]
     },
     "execution_count": 9,
     "metadata": {},
     "output_type": "execute_result"
    }
   ],
   "source": [
    "model_ret_ma_1 = ARMA(df.amzn_returns[1:],order=(0,1))\n",
    "result_ret_ma_1 = model_ret_ma_1.fit()\n",
    "result_ret_ma_1.summary()"
   ]
  },
  {
   "cell_type": "code",
   "execution_count": 10,
   "metadata": {},
   "outputs": [
    {
     "data": {
      "text/html": [
       "<table class=\"simpletable\">\n",
       "<caption>ARMA Model Results</caption>\n",
       "<tr>\n",
       "  <th>Dep. Variable:</th>   <td>amzn_returns</td>   <th>  No. Observations:  </th>   <td>3776</td>   \n",
       "</tr>\n",
       "<tr>\n",
       "  <th>Model:</th>            <td>ARMA(0, 2)</td>    <th>  Log Likelihood     </th> <td>-8725.495</td>\n",
       "</tr>\n",
       "<tr>\n",
       "  <th>Method:</th>             <td>css-mle</td>     <th>  S.D. of innovations</th>   <td>2.440</td>  \n",
       "</tr>\n",
       "<tr>\n",
       "  <th>Date:</th>          <td>Sat, 27 Jun 2020</td> <th>  AIC                </th> <td>17458.989</td>\n",
       "</tr>\n",
       "<tr>\n",
       "  <th>Time:</th>              <td>12:15:00</td>     <th>  BIC                </th> <td>17483.935</td>\n",
       "</tr>\n",
       "<tr>\n",
       "  <th>Sample:</th>                <td>0</td>        <th>  HQIC               </th> <td>17467.858</td>\n",
       "</tr>\n",
       "<tr>\n",
       "  <th></th>                       <td> </td>        <th>                     </th>     <td> </td>    \n",
       "</tr>\n",
       "</table>\n",
       "<table class=\"simpletable\">\n",
       "<tr>\n",
       "           <td></td>             <th>coef</th>     <th>std err</th>      <th>z</th>      <th>P>|z|</th>  <th>[0.025</th>    <th>0.975]</th>  \n",
       "</tr>\n",
       "<tr>\n",
       "  <th>const</th>              <td>    0.1438</td> <td>    0.037</td> <td>    3.869</td> <td> 0.000</td> <td>    0.071</td> <td>    0.217</td>\n",
       "</tr>\n",
       "<tr>\n",
       "  <th>ma.L1.amzn_returns</th> <td>   -0.0095</td> <td>    0.016</td> <td>   -0.581</td> <td> 0.561</td> <td>   -0.041</td> <td>    0.022</td>\n",
       "</tr>\n",
       "<tr>\n",
       "  <th>ma.L2.amzn_returns</th> <td>   -0.0543</td> <td>    0.016</td> <td>   -3.300</td> <td> 0.001</td> <td>   -0.086</td> <td>   -0.022</td>\n",
       "</tr>\n",
       "</table>\n",
       "<table class=\"simpletable\">\n",
       "<caption>Roots</caption>\n",
       "<tr>\n",
       "    <td></td>   <th>            Real</th>  <th>         Imaginary</th> <th>         Modulus</th>  <th>        Frequency</th>\n",
       "</tr>\n",
       "<tr>\n",
       "  <th>MA.1</th> <td>           4.2070</td> <td>          +0.0000j</td> <td>           4.2070</td> <td>           0.0000</td>\n",
       "</tr>\n",
       "<tr>\n",
       "  <th>MA.2</th> <td>          -4.3812</td> <td>          +0.0000j</td> <td>           4.3812</td> <td>           0.5000</td>\n",
       "</tr>\n",
       "</table>"
      ],
      "text/plain": [
       "<class 'statsmodels.iolib.summary.Summary'>\n",
       "\"\"\"\n",
       "                              ARMA Model Results                              \n",
       "==============================================================================\n",
       "Dep. Variable:           amzn_returns   No. Observations:                 3776\n",
       "Model:                     ARMA(0, 2)   Log Likelihood               -8725.495\n",
       "Method:                       css-mle   S.D. of innovations              2.440\n",
       "Date:                Sat, 27 Jun 2020   AIC                          17458.989\n",
       "Time:                        12:15:00   BIC                          17483.935\n",
       "Sample:                             0   HQIC                         17467.858\n",
       "                                                                              \n",
       "======================================================================================\n",
       "                         coef    std err          z      P>|z|      [0.025      0.975]\n",
       "--------------------------------------------------------------------------------------\n",
       "const                  0.1438      0.037      3.869      0.000       0.071       0.217\n",
       "ma.L1.amzn_returns    -0.0095      0.016     -0.581      0.561      -0.041       0.022\n",
       "ma.L2.amzn_returns    -0.0543      0.016     -3.300      0.001      -0.086      -0.022\n",
       "                                    Roots                                    \n",
       "=============================================================================\n",
       "                  Real          Imaginary           Modulus         Frequency\n",
       "-----------------------------------------------------------------------------\n",
       "MA.1            4.2070           +0.0000j            4.2070            0.0000\n",
       "MA.2           -4.3812           +0.0000j            4.3812            0.5000\n",
       "-----------------------------------------------------------------------------\n",
       "\"\"\""
      ]
     },
     "execution_count": 10,
     "metadata": {},
     "output_type": "execute_result"
    }
   ],
   "source": [
    "model_ret_ma_2 = ARMA(df.amzn_returns[1:],order=(0,2))\n",
    "result_ret_ma_2 = model_ret_ma_2.fit()\n",
    "result_ret_ma_2.summary()"
   ]
  },
  {
   "cell_type": "code",
   "execution_count": 13,
   "metadata": {},
   "outputs": [
    {
     "name": "stdout",
     "output_type": "stream",
     "text": [
      "LLR  test p-value 0.001\n"
     ]
    }
   ],
   "source": [
    "model_ret_ma_1 = ARMA(df.amzn_returns[1:],order=(0,1))\n",
    "model_ret_ma_2 = ARMA(df.amzn_returns[1:],order=(0,2))\n",
    "print (\"LLR  test p-value {}\".format(LLR_test(model_ret_ma_1,model_ret_ma_2)))"
   ]
  },
  {
   "cell_type": "code",
   "execution_count": 14,
   "metadata": {},
   "outputs": [
    {
     "data": {
      "text/html": [
       "<table class=\"simpletable\">\n",
       "<caption>ARMA Model Results</caption>\n",
       "<tr>\n",
       "  <th>Dep. Variable:</th>   <td>amzn_returns</td>   <th>  No. Observations:  </th>   <td>3776</td>   \n",
       "</tr>\n",
       "<tr>\n",
       "  <th>Model:</th>            <td>ARMA(0, 3)</td>    <th>  Log Likelihood     </th> <td>-8725.438</td>\n",
       "</tr>\n",
       "<tr>\n",
       "  <th>Method:</th>             <td>css-mle</td>     <th>  S.D. of innovations</th>   <td>2.440</td>  \n",
       "</tr>\n",
       "<tr>\n",
       "  <th>Date:</th>          <td>Sat, 27 Jun 2020</td> <th>  AIC                </th> <td>17460.876</td>\n",
       "</tr>\n",
       "<tr>\n",
       "  <th>Time:</th>              <td>12:20:57</td>     <th>  BIC                </th> <td>17492.058</td>\n",
       "</tr>\n",
       "<tr>\n",
       "  <th>Sample:</th>                <td>0</td>        <th>  HQIC               </th> <td>17471.961</td>\n",
       "</tr>\n",
       "<tr>\n",
       "  <th></th>                       <td> </td>        <th>                     </th>     <td> </td>    \n",
       "</tr>\n",
       "</table>\n",
       "<table class=\"simpletable\">\n",
       "<tr>\n",
       "           <td></td>             <th>coef</th>     <th>std err</th>      <th>z</th>      <th>P>|z|</th>  <th>[0.025</th>    <th>0.975]</th>  \n",
       "</tr>\n",
       "<tr>\n",
       "  <th>const</th>              <td>    0.1438</td> <td>    0.037</td> <td>    3.847</td> <td> 0.000</td> <td>    0.071</td> <td>    0.217</td>\n",
       "</tr>\n",
       "<tr>\n",
       "  <th>ma.L1.amzn_returns</th> <td>   -0.0096</td> <td>    0.016</td> <td>   -0.592</td> <td> 0.554</td> <td>   -0.042</td> <td>    0.022</td>\n",
       "</tr>\n",
       "<tr>\n",
       "  <th>ma.L2.amzn_returns</th> <td>   -0.0542</td> <td>    0.016</td> <td>   -3.297</td> <td> 0.001</td> <td>   -0.086</td> <td>   -0.022</td>\n",
       "</tr>\n",
       "<tr>\n",
       "  <th>ma.L3.amzn_returns</th> <td>    0.0055</td> <td>    0.016</td> <td>    0.337</td> <td> 0.736</td> <td>   -0.027</td> <td>    0.038</td>\n",
       "</tr>\n",
       "</table>\n",
       "<table class=\"simpletable\">\n",
       "<caption>Roots</caption>\n",
       "<tr>\n",
       "    <td></td>   <th>            Real</th>  <th>         Imaginary</th> <th>         Modulus</th>  <th>        Frequency</th>\n",
       "</tr>\n",
       "<tr>\n",
       "  <th>MA.1</th> <td>          -3.7207</td> <td>          -0.0000j</td> <td>           3.7207</td> <td>          -0.5000</td>\n",
       "</tr>\n",
       "<tr>\n",
       "  <th>MA.2</th> <td>           6.7574</td> <td>          -1.6981j</td> <td>           6.9675</td> <td>          -0.0392</td>\n",
       "</tr>\n",
       "<tr>\n",
       "  <th>MA.3</th> <td>           6.7574</td> <td>          +1.6981j</td> <td>           6.9675</td> <td>           0.0392</td>\n",
       "</tr>\n",
       "</table>"
      ],
      "text/plain": [
       "<class 'statsmodels.iolib.summary.Summary'>\n",
       "\"\"\"\n",
       "                              ARMA Model Results                              \n",
       "==============================================================================\n",
       "Dep. Variable:           amzn_returns   No. Observations:                 3776\n",
       "Model:                     ARMA(0, 3)   Log Likelihood               -8725.438\n",
       "Method:                       css-mle   S.D. of innovations              2.440\n",
       "Date:                Sat, 27 Jun 2020   AIC                          17460.876\n",
       "Time:                        12:20:57   BIC                          17492.058\n",
       "Sample:                             0   HQIC                         17471.961\n",
       "                                                                              \n",
       "======================================================================================\n",
       "                         coef    std err          z      P>|z|      [0.025      0.975]\n",
       "--------------------------------------------------------------------------------------\n",
       "const                  0.1438      0.037      3.847      0.000       0.071       0.217\n",
       "ma.L1.amzn_returns    -0.0096      0.016     -0.592      0.554      -0.042       0.022\n",
       "ma.L2.amzn_returns    -0.0542      0.016     -3.297      0.001      -0.086      -0.022\n",
       "ma.L3.amzn_returns     0.0055      0.016      0.337      0.736      -0.027       0.038\n",
       "                                    Roots                                    \n",
       "=============================================================================\n",
       "                  Real          Imaginary           Modulus         Frequency\n",
       "-----------------------------------------------------------------------------\n",
       "MA.1           -3.7207           -0.0000j            3.7207           -0.5000\n",
       "MA.2            6.7574           -1.6981j            6.9675           -0.0392\n",
       "MA.3            6.7574           +1.6981j            6.9675            0.0392\n",
       "-----------------------------------------------------------------------------\n",
       "\"\"\""
      ]
     },
     "execution_count": 14,
     "metadata": {},
     "output_type": "execute_result"
    }
   ],
   "source": [
    "model_ret_ma_3 = ARMA(df.amzn_returns[1:],order=(0,3))\n",
    "result_ret_ma_3 = model_ret_ma_3.fit()\n",
    "result_ret_ma_3.summary()"
   ]
  },
  {
   "cell_type": "code",
   "execution_count": 16,
   "metadata": {},
   "outputs": [
    {
     "name": "stdout",
     "output_type": "stream",
     "text": [
      "LLR  test p-value 0.736\n"
     ]
    }
   ],
   "source": [
    "model_ret_ma_2 = ARMA(df.amzn_returns[1:],order=(0,2))\n",
    "model_ret_ma_3 = ARMA(df.amzn_returns[1:],order=(0,3))\n",
    "print (\"LLR  test p-value {}\".format(LLR_test(model_ret_ma_2,model_ret_ma_3)))"
   ]
  },
  {
   "cell_type": "code",
   "execution_count": 17,
   "metadata": {},
   "outputs": [
    {
     "data": {
      "text/html": [
       "<table class=\"simpletable\">\n",
       "<caption>ARMA Model Results</caption>\n",
       "<tr>\n",
       "  <th>Dep. Variable:</th>   <td>amzn_returns</td>   <th>  No. Observations:  </th>   <td>3776</td>   \n",
       "</tr>\n",
       "<tr>\n",
       "  <th>Model:</th>            <td>ARMA(0, 4)</td>    <th>  Log Likelihood     </th> <td>-8725.182</td>\n",
       "</tr>\n",
       "<tr>\n",
       "  <th>Method:</th>             <td>css-mle</td>     <th>  S.D. of innovations</th>   <td>2.439</td>  \n",
       "</tr>\n",
       "<tr>\n",
       "  <th>Date:</th>          <td>Sat, 27 Jun 2020</td> <th>  AIC                </th> <td>17462.363</td>\n",
       "</tr>\n",
       "<tr>\n",
       "  <th>Time:</th>              <td>12:21:58</td>     <th>  BIC                </th> <td>17499.782</td>\n",
       "</tr>\n",
       "<tr>\n",
       "  <th>Sample:</th>                <td>0</td>        <th>  HQIC               </th> <td>17475.666</td>\n",
       "</tr>\n",
       "<tr>\n",
       "  <th></th>                       <td> </td>        <th>                     </th>     <td> </td>    \n",
       "</tr>\n",
       "</table>\n",
       "<table class=\"simpletable\">\n",
       "<tr>\n",
       "           <td></td>             <th>coef</th>     <th>std err</th>      <th>z</th>      <th>P>|z|</th>  <th>[0.025</th>    <th>0.975]</th>  \n",
       "</tr>\n",
       "<tr>\n",
       "  <th>const</th>              <td>    0.1438</td> <td>    0.037</td> <td>    3.893</td> <td> 0.000</td> <td>    0.071</td> <td>    0.216</td>\n",
       "</tr>\n",
       "<tr>\n",
       "  <th>ma.L1.amzn_returns</th> <td>   -0.0099</td> <td>    0.016</td> <td>   -0.607</td> <td> 0.544</td> <td>   -0.042</td> <td>    0.022</td>\n",
       "</tr>\n",
       "<tr>\n",
       "  <th>ma.L2.amzn_returns</th> <td>   -0.0538</td> <td>    0.016</td> <td>   -3.307</td> <td> 0.001</td> <td>   -0.086</td> <td>   -0.022</td>\n",
       "</tr>\n",
       "<tr>\n",
       "  <th>ma.L3.amzn_returns</th> <td>    0.0062</td> <td>    0.016</td> <td>    0.376</td> <td> 0.707</td> <td>   -0.026</td> <td>    0.038</td>\n",
       "</tr>\n",
       "<tr>\n",
       "  <th>ma.L4.amzn_returns</th> <td>   -0.0119</td> <td>    0.017</td> <td>   -0.716</td> <td> 0.474</td> <td>   -0.044</td> <td>    0.021</td>\n",
       "</tr>\n",
       "</table>\n",
       "<table class=\"simpletable\">\n",
       "<caption>Roots</caption>\n",
       "<tr>\n",
       "    <td></td>   <th>            Real</th>  <th>         Imaginary</th> <th>         Modulus</th>  <th>        Frequency</th>\n",
       "</tr>\n",
       "<tr>\n",
       "  <th>MA.1</th> <td>          -2.6087</td> <td>          -0.0000j</td> <td>           2.6087</td> <td>          -0.5000</td>\n",
       "</tr>\n",
       "<tr>\n",
       "  <th>MA.2</th> <td>           2.7632</td> <td>          -0.0000j</td> <td>           2.7632</td> <td>          -0.0000</td>\n",
       "</tr>\n",
       "<tr>\n",
       "  <th>MA.3</th> <td>           0.1830</td> <td>          -3.4132j</td> <td>           3.4181</td> <td>          -0.2415</td>\n",
       "</tr>\n",
       "<tr>\n",
       "  <th>MA.4</th> <td>           0.1830</td> <td>          +3.4132j</td> <td>           3.4181</td> <td>           0.2415</td>\n",
       "</tr>\n",
       "</table>"
      ],
      "text/plain": [
       "<class 'statsmodels.iolib.summary.Summary'>\n",
       "\"\"\"\n",
       "                              ARMA Model Results                              \n",
       "==============================================================================\n",
       "Dep. Variable:           amzn_returns   No. Observations:                 3776\n",
       "Model:                     ARMA(0, 4)   Log Likelihood               -8725.182\n",
       "Method:                       css-mle   S.D. of innovations              2.439\n",
       "Date:                Sat, 27 Jun 2020   AIC                          17462.363\n",
       "Time:                        12:21:58   BIC                          17499.782\n",
       "Sample:                             0   HQIC                         17475.666\n",
       "                                                                              \n",
       "======================================================================================\n",
       "                         coef    std err          z      P>|z|      [0.025      0.975]\n",
       "--------------------------------------------------------------------------------------\n",
       "const                  0.1438      0.037      3.893      0.000       0.071       0.216\n",
       "ma.L1.amzn_returns    -0.0099      0.016     -0.607      0.544      -0.042       0.022\n",
       "ma.L2.amzn_returns    -0.0538      0.016     -3.307      0.001      -0.086      -0.022\n",
       "ma.L3.amzn_returns     0.0062      0.016      0.376      0.707      -0.026       0.038\n",
       "ma.L4.amzn_returns    -0.0119      0.017     -0.716      0.474      -0.044       0.021\n",
       "                                    Roots                                    \n",
       "=============================================================================\n",
       "                  Real          Imaginary           Modulus         Frequency\n",
       "-----------------------------------------------------------------------------\n",
       "MA.1           -2.6087           -0.0000j            2.6087           -0.5000\n",
       "MA.2            2.7632           -0.0000j            2.7632           -0.0000\n",
       "MA.3            0.1830           -3.4132j            3.4181           -0.2415\n",
       "MA.4            0.1830           +3.4132j            3.4181            0.2415\n",
       "-----------------------------------------------------------------------------\n",
       "\"\"\""
      ]
     },
     "execution_count": 17,
     "metadata": {},
     "output_type": "execute_result"
    }
   ],
   "source": [
    "model_ret_ma_4 = ARMA(df.amzn_returns[1:],order=(0,4))\n",
    "result_ret_ma_4 = model_ret_ma_4.fit()\n",
    "result_ret_ma_4.summary()"
   ]
  },
  {
   "cell_type": "code",
   "execution_count": 18,
   "metadata": {},
   "outputs": [
    {
     "name": "stdout",
     "output_type": "stream",
     "text": [
      "LLR  test p-value 0.474\n"
     ]
    }
   ],
   "source": [
    "model_ret_ma_3 = ARMA(df.amzn_returns[1:],order=(0,3))\n",
    "model_ret_ma_4 = ARMA(df.amzn_returns[1:],order=(0,4))\n",
    "print (\"LLR  test p-value {}\".format(LLR_test(model_ret_ma_3,model_ret_ma_4)))"
   ]
  },
  {
   "cell_type": "code",
   "execution_count": 20,
   "metadata": {},
   "outputs": [],
   "source": [
    "df['res_ret_ma_2'] = result_ret_ma_2.resid"
   ]
  },
  {
   "cell_type": "code",
   "execution_count": 21,
   "metadata": {},
   "outputs": [
    {
     "data": {
      "text/plain": [
       "-0.0"
      ]
     },
     "execution_count": 21,
     "metadata": {},
     "output_type": "execute_result"
    }
   ],
   "source": [
    "round(df['res_ret_ma_2'].mean(),3)"
   ]
  },
  {
   "cell_type": "code",
   "execution_count": 22,
   "metadata": {},
   "outputs": [
    {
     "data": {
      "text/plain": [
       "5.953"
      ]
     },
     "execution_count": 22,
     "metadata": {},
     "output_type": "execute_result"
    }
   ],
   "source": [
    "round(df['res_ret_ma_2'].var(),3)"
   ]
  },
  {
   "cell_type": "code",
   "execution_count": 23,
   "metadata": {},
   "outputs": [
    {
     "data": {
      "text/plain": [
       "2.44"
      ]
     },
     "execution_count": 23,
     "metadata": {},
     "output_type": "execute_result"
    }
   ],
   "source": [
    "round(df['res_ret_ma_2'].std(),3)"
   ]
  },
  {
   "cell_type": "code",
   "execution_count": 25,
   "metadata": {},
   "outputs": [
    {
     "data": {
      "text/plain": [
       "(-61.43625686809555,\n",
       " 0.0,\n",
       " 0,\n",
       " 3774,\n",
       " {'1%': -3.4320839039156588,\n",
       "  '5%': -2.8623061432691532,\n",
       "  '10%': -2.567177828379207},\n",
       " 17283.870928216882)"
      ]
     },
     "execution_count": 25,
     "metadata": {},
     "output_type": "execute_result"
    }
   ],
   "source": [
    "sts.adfuller(df['res_ret_ma_2'][2:])"
   ]
  },
  {
   "cell_type": "code",
   "execution_count": 27,
   "metadata": {},
   "outputs": [
    {
     "data": {
      "image/png": "[encoded data removed]",
      "text/plain": [
       "<Figure size 432x288 with 1 Axes>"
      ]
     },
     "metadata": {
      "needs_background": "light"
     },
     "output_type": "display_data"
    }
   ],
   "source": [
    "sgt.plot_acf(df['res_ret_ma_2'][1:],lags=40,zero=False)\n",
    "plt.show()"
   ]
  },
  {
   "cell_type": "markdown",
   "metadata": {},
   "source": [
    "## Normalized Returns"
   ]
  },
  {
   "cell_type": "code",
   "execution_count": 28,
   "metadata": {},
   "outputs": [
    {
     "data": {
      "text/html": [
       "<div>\n",
       "<style scoped>\n",
       "    .dataframe tbody tr th:only-of-type {\n",
       "        vertical-align: middle;\n",
       "    }\n",
       "\n",
       "    .dataframe tbody tr th {\n",
       "        vertical-align: top;\n",
       "    }\n",
       "\n",
       "    .dataframe thead th {\n",
       "        text-align: right;\n",
       "    }\n",
       "</style>\n",
       "<table border=\"1\" class=\"dataframe\">\n",
       "  <thead>\n",
       "    <tr style=\"text-align: right;\">\n",
       "      <th></th>\n",
       "      <th>Date</th>\n",
       "      <th>GOLD</th>\n",
       "      <th>GOOG</th>\n",
       "      <th>AAPL</th>\n",
       "      <th>MSFT</th>\n",
       "      <th>AMZN</th>\n",
       "      <th>amzn_returns</th>\n",
       "      <th>res_ret_ma_2</th>\n",
       "      <th>amzn_norm_ret</th>\n",
       "    </tr>\n",
       "  </thead>\n",
       "  <tbody>\n",
       "    <tr>\n",
       "      <td>0</td>\n",
       "      <td>2005-06-20</td>\n",
       "      <td>24.320000</td>\n",
       "      <td>142.814697</td>\n",
       "      <td>5.372857</td>\n",
       "      <td>25.110001</td>\n",
       "      <td>35.689999</td>\n",
       "      <td>NaN</td>\n",
       "      <td>NaN</td>\n",
       "      <td>NaN</td>\n",
       "    </tr>\n",
       "    <tr>\n",
       "      <td>1</td>\n",
       "      <td>2005-06-21</td>\n",
       "      <td>24.389999</td>\n",
       "      <td>143.382568</td>\n",
       "      <td>5.408571</td>\n",
       "      <td>25.150000</td>\n",
       "      <td>35.380001</td>\n",
       "      <td>-0.868585</td>\n",
       "      <td>-1.012401</td>\n",
       "      <td>100.000000</td>\n",
       "    </tr>\n",
       "    <tr>\n",
       "      <td>2</td>\n",
       "      <td>2005-06-22</td>\n",
       "      <td>24.480000</td>\n",
       "      <td>144.109848</td>\n",
       "      <td>5.507143</td>\n",
       "      <td>25.070000</td>\n",
       "      <td>35.220001</td>\n",
       "      <td>-0.452233</td>\n",
       "      <td>-0.605074</td>\n",
       "      <td>52.065469</td>\n",
       "    </tr>\n",
       "    <tr>\n",
       "      <td>3</td>\n",
       "      <td>2005-06-23</td>\n",
       "      <td>24.750000</td>\n",
       "      <td>144.314072</td>\n",
       "      <td>5.555714</td>\n",
       "      <td>25.309999</td>\n",
       "      <td>35.430000</td>\n",
       "      <td>0.596249</td>\n",
       "      <td>0.391986</td>\n",
       "      <td>-68.646043</td>\n",
       "    </tr>\n",
       "    <tr>\n",
       "      <td>4</td>\n",
       "      <td>2005-06-24</td>\n",
       "      <td>24.920000</td>\n",
       "      <td>148.069992</td>\n",
       "      <td>5.394286</td>\n",
       "      <td>25.040001</td>\n",
       "      <td>35.020000</td>\n",
       "      <td>-1.157211</td>\n",
       "      <td>-1.330054</td>\n",
       "      <td>133.229485</td>\n",
       "    </tr>\n",
       "  </tbody>\n",
       "</table>\n",
       "</div>"
      ],
      "text/plain": [
       "         Date       GOLD        GOOG      AAPL       MSFT       AMZN  \\\n",
       "0  2005-06-20  24.320000  142.814697  5.372857  25.110001  35.689999   \n",
       "1  2005-06-21  24.389999  143.382568  5.408571  25.150000  35.380001   \n",
       "2  2005-06-22  24.480000  144.109848  5.507143  25.070000  35.220001   \n",
       "3  2005-06-23  24.750000  144.314072  5.555714  25.309999  35.430000   \n",
       "4  2005-06-24  24.920000  148.069992  5.394286  25.040001  35.020000   \n",
       "\n",
       "   amzn_returns  res_ret_ma_2  amzn_norm_ret  \n",
       "0           NaN           NaN            NaN  \n",
       "1     -0.868585     -1.012401     100.000000  \n",
       "2     -0.452233     -0.605074      52.065469  \n",
       "3      0.596249      0.391986     -68.646043  \n",
       "4     -1.157211     -1.330054     133.229485  "
      ]
     },
     "execution_count": 28,
     "metadata": {},
     "output_type": "execute_result"
    }
   ],
   "source": [
    "bench_ret = df.amzn_returns.iloc[1]\n",
    "df['amzn_norm_ret'] = df['amzn_returns'].div(bench_ret).mul(100)\n",
    "df.head()"
   ]
  },
  {
   "cell_type": "code",
   "execution_count": 30,
   "metadata": {},
   "outputs": [
    {
     "data": {
      "image/png": "[encoded data removed]",
      "text/plain": [
       "<Figure size 432x288 with 1 Axes>"
      ]
     },
     "metadata": {
      "needs_background": "light"
     },
     "output_type": "display_data"
    }
   ],
   "source": [
    "sgt.plot_acf(df['amzn_norm_ret'].iloc[1:],lags=40,zero=False)\n",
    "plt.title(\"Amazon Norm ACF plot\",size=25)\n",
    "plt.show()"
   ]
  },
  {
   "cell_type": "code",
   "execution_count": 31,
   "metadata": {},
   "outputs": [
    {
     "data": {
      "text/html": [
       "<table class=\"simpletable\">\n",
       "<caption>ARMA Model Results</caption>\n",
       "<tr>\n",
       "  <th>Dep. Variable:</th>   <td>amzn_norm_ret</td>  <th>  No. Observations:  </th>    <td>3776</td>   \n",
       "</tr>\n",
       "<tr>\n",
       "  <th>Model:</th>            <td>ARMA(0, 2)</td>    <th>  Log Likelihood     </th> <td>-26646.617</td>\n",
       "</tr>\n",
       "<tr>\n",
       "  <th>Method:</th>             <td>css-mle</td>     <th>  S.D. of innovations</th>   <td>280.872</td> \n",
       "</tr>\n",
       "<tr>\n",
       "  <th>Date:</th>          <td>Sat, 27 Jun 2020</td> <th>  AIC                </th>  <td>53301.234</td>\n",
       "</tr>\n",
       "<tr>\n",
       "  <th>Time:</th>              <td>13:12:05</td>     <th>  BIC                </th>  <td>53326.180</td>\n",
       "</tr>\n",
       "<tr>\n",
       "  <th>Sample:</th>                <td>0</td>        <th>  HQIC               </th>  <td>53310.103</td>\n",
       "</tr>\n",
       "<tr>\n",
       "  <th></th>                       <td> </td>        <th>                     </th>      <td> </td>    \n",
       "</tr>\n",
       "</table>\n",
       "<table class=\"simpletable\">\n",
       "<tr>\n",
       "           <td></td>              <th>coef</th>     <th>std err</th>      <th>z</th>      <th>P>|z|</th>  <th>[0.025</th>    <th>0.975]</th>  \n",
       "</tr>\n",
       "<tr>\n",
       "  <th>const</th>               <td>  -16.5565</td> <td>    4.280</td> <td>   -3.869</td> <td> 0.000</td> <td>  -24.945</td> <td>   -8.168</td>\n",
       "</tr>\n",
       "<tr>\n",
       "  <th>ma.L1.amzn_norm_ret</th> <td>   -0.0095</td> <td>    0.016</td> <td>   -0.581</td> <td> 0.561</td> <td>   -0.041</td> <td>    0.022</td>\n",
       "</tr>\n",
       "<tr>\n",
       "  <th>ma.L2.amzn_norm_ret</th> <td>   -0.0543</td> <td>    0.016</td> <td>   -3.300</td> <td> 0.001</td> <td>   -0.086</td> <td>   -0.022</td>\n",
       "</tr>\n",
       "</table>\n",
       "<table class=\"simpletable\">\n",
       "<caption>Roots</caption>\n",
       "<tr>\n",
       "    <td></td>   <th>            Real</th>  <th>         Imaginary</th> <th>         Modulus</th>  <th>        Frequency</th>\n",
       "</tr>\n",
       "<tr>\n",
       "  <th>MA.1</th> <td>           4.2070</td> <td>          +0.0000j</td> <td>           4.2070</td> <td>           0.0000</td>\n",
       "</tr>\n",
       "<tr>\n",
       "  <th>MA.2</th> <td>          -4.3812</td> <td>          +0.0000j</td> <td>           4.3812</td> <td>           0.5000</td>\n",
       "</tr>\n",
       "</table>"
      ],
      "text/plain": [
       "<class 'statsmodels.iolib.summary.Summary'>\n",
       "\"\"\"\n",
       "                              ARMA Model Results                              \n",
       "==============================================================================\n",
       "Dep. Variable:          amzn_norm_ret   No. Observations:                 3776\n",
       "Model:                     ARMA(0, 2)   Log Likelihood              -26646.617\n",
       "Method:                       css-mle   S.D. of innovations            280.872\n",
       "Date:                Sat, 27 Jun 2020   AIC                          53301.234\n",
       "Time:                        13:12:05   BIC                          53326.180\n",
       "Sample:                             0   HQIC                         53310.103\n",
       "                                                                              \n",
       "=======================================================================================\n",
       "                          coef    std err          z      P>|z|      [0.025      0.975]\n",
       "---------------------------------------------------------------------------------------\n",
       "const                 -16.5565      4.280     -3.869      0.000     -24.945      -8.168\n",
       "ma.L1.amzn_norm_ret    -0.0095      0.016     -0.581      0.561      -0.041       0.022\n",
       "ma.L2.amzn_norm_ret    -0.0543      0.016     -3.300      0.001      -0.086      -0.022\n",
       "                                    Roots                                    \n",
       "=============================================================================\n",
       "                  Real          Imaginary           Modulus         Frequency\n",
       "-----------------------------------------------------------------------------\n",
       "MA.1            4.2070           +0.0000j            4.2070            0.0000\n",
       "MA.2           -4.3812           +0.0000j            4.3812            0.5000\n",
       "-----------------------------------------------------------------------------\n",
       "\"\"\""
      ]
     },
     "execution_count": 31,
     "metadata": {},
     "output_type": "execute_result"
    }
   ],
   "source": [
    "model_ret_ma_2_norm = ARMA(df.amzn_norm_ret[1:],order=(0,2))\n",
    "result_ret_ma_2_norm = model_ret_ma_2_norm.fit()\n",
    "result_ret_ma_2_norm.summary()"
   ]
  },
  {
   "cell_type": "markdown",
   "metadata": {},
   "source": [
    "## MA Models for Prices"
   ]
  },
  {
   "cell_type": "code",
   "execution_count": 32,
   "metadata": {},
   "outputs": [
    {
     "data": {
      "image/png": "[encoded data removed]",
      "text/plain": [
       "<Figure size 432x288 with 1 Axes>"
      ]
     },
     "metadata": {
      "needs_background": "light"
     },
     "output_type": "display_data"
    }
   ],
   "source": [
    "sgt.plot_acf(df.AMZN,lags=40,zero=False)\n",
    "plt.title(\"ACF of Amazon Prices\",size=25)\n",
    "plt.show()"
   ]
  },
  {
   "cell_type": "code",
   "execution_count": 34,
   "metadata": {},
   "outputs": [
    {
     "data": {
      "text/html": [
       "<table class=\"simpletable\">\n",
       "<caption>ARMA Model Results</caption>\n",
       "<tr>\n",
       "  <th>Dep. Variable:</th>       <td>AMZN</td>       <th>  No. Observations:  </th>    <td>3777</td>   \n",
       "</tr>\n",
       "<tr>\n",
       "  <th>Model:</th>            <td>ARMA(0, 1)</td>    <th>  Log Likelihood     </th> <td>-27109.981</td>\n",
       "</tr>\n",
       "<tr>\n",
       "  <th>Method:</th>             <td>css-mle</td>     <th>  S.D. of innovations</th>   <td>316.792</td> \n",
       "</tr>\n",
       "<tr>\n",
       "  <th>Date:</th>          <td>Sat, 27 Jun 2020</td> <th>  AIC                </th>  <td>54225.962</td>\n",
       "</tr>\n",
       "<tr>\n",
       "  <th>Time:</th>              <td>13:15:30</td>     <th>  BIC                </th>  <td>54244.672</td>\n",
       "</tr>\n",
       "<tr>\n",
       "  <th>Sample:</th>                <td>0</td>        <th>  HQIC               </th>  <td>54232.614</td>\n",
       "</tr>\n",
       "<tr>\n",
       "  <th></th>                       <td> </td>        <th>                     </th>      <td> </td>    \n",
       "</tr>\n",
       "</table>\n",
       "<table class=\"simpletable\">\n",
       "<tr>\n",
       "       <td></td>         <th>coef</th>     <th>std err</th>      <th>z</th>      <th>P>|z|</th>  <th>[0.025</th>    <th>0.975]</th>  \n",
       "</tr>\n",
       "<tr>\n",
       "  <th>const</th>      <td>  536.5479</td> <td>   10.230</td> <td>   52.447</td> <td> 0.000</td> <td>  516.497</td> <td>  556.599</td>\n",
       "</tr>\n",
       "<tr>\n",
       "  <th>ma.L1.AMZN</th> <td>    0.9849</td> <td>    0.002</td> <td>  466.112</td> <td> 0.000</td> <td>    0.981</td> <td>    0.989</td>\n",
       "</tr>\n",
       "</table>\n",
       "<table class=\"simpletable\">\n",
       "<caption>Roots</caption>\n",
       "<tr>\n",
       "    <td></td>   <th>            Real</th>  <th>         Imaginary</th> <th>         Modulus</th>  <th>        Frequency</th>\n",
       "</tr>\n",
       "<tr>\n",
       "  <th>MA.1</th> <td>          -1.0153</td> <td>          +0.0000j</td> <td>           1.0153</td> <td>           0.5000</td>\n",
       "</tr>\n",
       "</table>"
      ],
      "text/plain": [
       "<class 'statsmodels.iolib.summary.Summary'>\n",
       "\"\"\"\n",
       "                              ARMA Model Results                              \n",
       "==============================================================================\n",
       "Dep. Variable:                   AMZN   No. Observations:                 3777\n",
       "Model:                     ARMA(0, 1)   Log Likelihood              -27109.981\n",
       "Method:                       css-mle   S.D. of innovations            316.792\n",
       "Date:                Sat, 27 Jun 2020   AIC                          54225.962\n",
       "Time:                        13:15:30   BIC                          54244.672\n",
       "Sample:                             0   HQIC                         54232.614\n",
       "                                                                              \n",
       "==============================================================================\n",
       "                 coef    std err          z      P>|z|      [0.025      0.975]\n",
       "------------------------------------------------------------------------------\n",
       "const        536.5479     10.230     52.447      0.000     516.497     556.599\n",
       "ma.L1.AMZN     0.9849      0.002    466.112      0.000       0.981       0.989\n",
       "                                    Roots                                    \n",
       "=============================================================================\n",
       "                  Real          Imaginary           Modulus         Frequency\n",
       "-----------------------------------------------------------------------------\n",
       "MA.1           -1.0153           +0.0000j            1.0153            0.5000\n",
       "-----------------------------------------------------------------------------\n",
       "\"\"\""
      ]
     },
     "execution_count": 34,
     "metadata": {},
     "output_type": "execute_result"
    }
   ],
   "source": [
    "model_ma_1 = ARMA(df.AMZN,order=(0,1))\n",
    "result_ma_1 = model_ma_1.fit()\n",
    "result_ma_1.summary()"
   ]
  },
  {
   "cell_type": "code",
   "execution_count": 35,
   "metadata": {},
   "outputs": [
    {
     "data": {
      "text/html": [
       "<table class=\"simpletable\">\n",
       "<caption>ARMA Model Results</caption>\n",
       "<tr>\n",
       "  <th>Dep. Variable:</th>       <td>AMZN</td>       <th>  No. Observations:  </th>    <td>3777</td>   \n",
       "</tr>\n",
       "<tr>\n",
       "  <th>Model:</th>            <td>ARMA(0, 2)</td>    <th>  Log Likelihood     </th> <td>-24989.368</td>\n",
       "</tr>\n",
       "<tr>\n",
       "  <th>Method:</th>             <td>css-mle</td>     <th>  S.D. of innovations</th>   <td>180.649</td> \n",
       "</tr>\n",
       "<tr>\n",
       "  <th>Date:</th>          <td>Sat, 27 Jun 2020</td> <th>  AIC                </th>  <td>49986.735</td>\n",
       "</tr>\n",
       "<tr>\n",
       "  <th>Time:</th>              <td>13:16:06</td>     <th>  BIC                </th>  <td>50011.682</td>\n",
       "</tr>\n",
       "<tr>\n",
       "  <th>Sample:</th>                <td>0</td>        <th>  HQIC               </th>  <td>49995.604</td>\n",
       "</tr>\n",
       "<tr>\n",
       "  <th></th>                       <td> </td>        <th>                     </th>      <td> </td>    \n",
       "</tr>\n",
       "</table>\n",
       "<table class=\"simpletable\">\n",
       "<tr>\n",
       "       <td></td>         <th>coef</th>     <th>std err</th>      <th>z</th>      <th>P>|z|</th>  <th>[0.025</th>    <th>0.975]</th>  \n",
       "</tr>\n",
       "<tr>\n",
       "  <th>const</th>      <td>  536.7801</td> <td>   10.765</td> <td>   49.862</td> <td> 0.000</td> <td>  515.680</td> <td>  557.880</td>\n",
       "</tr>\n",
       "<tr>\n",
       "  <th>ma.L1.AMZN</th> <td>    1.7863</td> <td>    0.008</td> <td>  215.529</td> <td> 0.000</td> <td>    1.770</td> <td>    1.803</td>\n",
       "</tr>\n",
       "<tr>\n",
       "  <th>ma.L2.AMZN</th> <td>    0.8771</td> <td>    0.006</td> <td>  155.437</td> <td> 0.000</td> <td>    0.866</td> <td>    0.888</td>\n",
       "</tr>\n",
       "</table>\n",
       "<table class=\"simpletable\">\n",
       "<caption>Roots</caption>\n",
       "<tr>\n",
       "    <td></td>   <th>            Real</th>  <th>         Imaginary</th> <th>         Modulus</th>  <th>        Frequency</th>\n",
       "</tr>\n",
       "<tr>\n",
       "  <th>MA.1</th> <td>          -1.0183</td> <td>          -0.3213j</td> <td>           1.0678</td> <td>          -0.4514</td>\n",
       "</tr>\n",
       "<tr>\n",
       "  <th>MA.2</th> <td>          -1.0183</td> <td>          +0.3213j</td> <td>           1.0678</td> <td>           0.4514</td>\n",
       "</tr>\n",
       "</table>"
      ],
      "text/plain": [
       "<class 'statsmodels.iolib.summary.Summary'>\n",
       "\"\"\"\n",
       "                              ARMA Model Results                              \n",
       "==============================================================================\n",
       "Dep. Variable:                   AMZN   No. Observations:                 3777\n",
       "Model:                     ARMA(0, 2)   Log Likelihood              -24989.368\n",
       "Method:                       css-mle   S.D. of innovations            180.649\n",
       "Date:                Sat, 27 Jun 2020   AIC                          49986.735\n",
       "Time:                        13:16:06   BIC                          50011.682\n",
       "Sample:                             0   HQIC                         49995.604\n",
       "                                                                              \n",
       "==============================================================================\n",
       "                 coef    std err          z      P>|z|      [0.025      0.975]\n",
       "------------------------------------------------------------------------------\n",
       "const        536.7801     10.765     49.862      0.000     515.680     557.880\n",
       "ma.L1.AMZN     1.7863      0.008    215.529      0.000       1.770       1.803\n",
       "ma.L2.AMZN     0.8771      0.006    155.437      0.000       0.866       0.888\n",
       "                                    Roots                                    \n",
       "=============================================================================\n",
       "                  Real          Imaginary           Modulus         Frequency\n",
       "-----------------------------------------------------------------------------\n",
       "MA.1           -1.0183           -0.3213j            1.0678           -0.4514\n",
       "MA.2           -1.0183           +0.3213j            1.0678            0.4514\n",
       "-----------------------------------------------------------------------------\n",
       "\"\"\""
      ]
     },
     "execution_count": 35,
     "metadata": {},
     "output_type": "execute_result"
    }
   ],
   "source": [
    "model_ma_2 = ARMA(df.AMZN,order=(0,2))\n",
    "result_ma_2 = model_ma_2.fit()\n",
    "result_ma_2.summary()"
   ]
  },
  {
   "cell_type": "code",
   "execution_count": 36,
   "metadata": {},
   "outputs": [
    {
     "data": {
      "text/html": [
       "<table class=\"simpletable\">\n",
       "<caption>ARMA Model Results</caption>\n",
       "<tr>\n",
       "  <th>Dep. Variable:</th>       <td>AMZN</td>       <th>  No. Observations:  </th>    <td>3777</td>   \n",
       "</tr>\n",
       "<tr>\n",
       "  <th>Model:</th>            <td>ARMA(0, 3)</td>    <th>  Log Likelihood     </th> <td>-23132.505</td>\n",
       "</tr>\n",
       "<tr>\n",
       "  <th>Method:</th>             <td>css-mle</td>     <th>  S.D. of innovations</th>   <td>110.458</td> \n",
       "</tr>\n",
       "<tr>\n",
       "  <th>Date:</th>          <td>Sat, 27 Jun 2020</td> <th>  AIC                </th>  <td>46275.009</td>\n",
       "</tr>\n",
       "<tr>\n",
       "  <th>Time:</th>              <td>13:16:28</td>     <th>  BIC                </th>  <td>46306.192</td>\n",
       "</tr>\n",
       "<tr>\n",
       "  <th>Sample:</th>                <td>0</td>        <th>  HQIC               </th>  <td>46286.095</td>\n",
       "</tr>\n",
       "<tr>\n",
       "  <th></th>                       <td> </td>        <th>                     </th>      <td> </td>    \n",
       "</tr>\n",
       "</table>\n",
       "<table class=\"simpletable\">\n",
       "<tr>\n",
       "       <td></td>         <th>coef</th>     <th>std err</th>      <th>z</th>      <th>P>|z|</th>  <th>[0.025</th>    <th>0.975]</th>  \n",
       "</tr>\n",
       "<tr>\n",
       "  <th>const</th>      <td>  537.0401</td> <td>   11.168</td> <td>   48.089</td> <td> 0.000</td> <td>  515.152</td> <td>  558.928</td>\n",
       "</tr>\n",
       "<tr>\n",
       "  <th>ma.L1.AMZN</th> <td>    2.2259</td> <td>    0.010</td> <td>  231.544</td> <td> 0.000</td> <td>    2.207</td> <td>    2.245</td>\n",
       "</tr>\n",
       "<tr>\n",
       "  <th>ma.L2.AMZN</th> <td>    2.1309</td> <td>    0.011</td> <td>  189.143</td> <td> 0.000</td> <td>    2.109</td> <td>    2.153</td>\n",
       "</tr>\n",
       "<tr>\n",
       "  <th>ma.L3.AMZN</th> <td>    0.8592</td> <td>    0.006</td> <td>  132.963</td> <td> 0.000</td> <td>    0.846</td> <td>    0.872</td>\n",
       "</tr>\n",
       "</table>\n",
       "<table class=\"simpletable\">\n",
       "<caption>Roots</caption>\n",
       "<tr>\n",
       "    <td></td>   <th>            Real</th>  <th>         Imaginary</th> <th>         Modulus</th>  <th>        Frequency</th>\n",
       "</tr>\n",
       "<tr>\n",
       "  <th>MA.1</th> <td>          -0.7007</td> <td>          -0.7668j</td> <td>           1.0387</td> <td>          -0.3678</td>\n",
       "</tr>\n",
       "<tr>\n",
       "  <th>MA.2</th> <td>          -0.7007</td> <td>          +0.7668j</td> <td>           1.0387</td> <td>           0.3678</td>\n",
       "</tr>\n",
       "<tr>\n",
       "  <th>MA.3</th> <td>          -1.0787</td> <td>          -0.0000j</td> <td>           1.0787</td> <td>          -0.5000</td>\n",
       "</tr>\n",
       "</table>"
      ],
      "text/plain": [
       "<class 'statsmodels.iolib.summary.Summary'>\n",
       "\"\"\"\n",
       "                              ARMA Model Results                              \n",
       "==============================================================================\n",
       "Dep. Variable:                   AMZN   No. Observations:                 3777\n",
       "Model:                     ARMA(0, 3)   Log Likelihood              -23132.505\n",
       "Method:                       css-mle   S.D. of innovations            110.458\n",
       "Date:                Sat, 27 Jun 2020   AIC                          46275.009\n",
       "Time:                        13:16:28   BIC                          46306.192\n",
       "Sample:                             0   HQIC                         46286.095\n",
       "                                                                              \n",
       "==============================================================================\n",
       "                 coef    std err          z      P>|z|      [0.025      0.975]\n",
       "------------------------------------------------------------------------------\n",
       "const        537.0401     11.168     48.089      0.000     515.152     558.928\n",
       "ma.L1.AMZN     2.2259      0.010    231.544      0.000       2.207       2.245\n",
       "ma.L2.AMZN     2.1309      0.011    189.143      0.000       2.109       2.153\n",
       "ma.L3.AMZN     0.8592      0.006    132.963      0.000       0.846       0.872\n",
       "                                    Roots                                    \n",
       "=============================================================================\n",
       "                  Real          Imaginary           Modulus         Frequency\n",
       "-----------------------------------------------------------------------------\n",
       "MA.1           -0.7007           -0.7668j            1.0387           -0.3678\n",
       "MA.2           -0.7007           +0.7668j            1.0387            0.3678\n",
       "MA.3           -1.0787           -0.0000j            1.0787           -0.5000\n",
       "-----------------------------------------------------------------------------\n",
       "\"\"\""
      ]
     },
     "execution_count": 36,
     "metadata": {},
     "output_type": "execute_result"
    }
   ],
   "source": [
    "model_ma_3 = ARMA(df.AMZN,order=(0,3))\n",
    "result_ma_3 = model_ma_3.fit()\n",
    "result_ma_3.summary()"
   ]
  },
  {
   "cell_type": "code",
   "execution_count": null,
   "metadata": {},
   "outputs": [],
   "source": []
  }
 ],
 "metadata": {
  "kernelspec": {
   "display_name": "Python 3",
   "language": "python",
   "name": "python3"
  },
  "language_info": {
   "codemirror_mode": {
    "name": "ipython",
    "version": 3
   },
   "file_extension": ".py",
   "mimetype": "text/x-python",
   "name": "python",
   "nbconvert_exporter": "python",
   "pygments_lexer": "ipython3",
   "version": "3.7.4"
  }
 },
 "nbformat": 4,
 "nbformat_minor": 2
}
